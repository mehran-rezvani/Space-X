{
  "cells": [
    {
      "cell_type": "markdown",
      "id": "2dd06984-d868-4630-b14e-dc63a61ba262",
      "metadata": {
        "id": "2dd06984-d868-4630-b14e-dc63a61ba262"
      },
      "source": [
        "## SpaceX Falcon 9 first stage Landing Prediction\n",
        "### Collecting the data\n",
        "\n",
        "In this capstone, we will predict if the Falcon 9 first stage will land successfully. SpaceX advertises Falcon 9 rocket launches on its website with a cost of 62 million dollars; other providers cost upward of 165 million dollars each, much of the savings is because SpaceX can reuse the first stage. Therefore if we can determine if the first stage will land, we can determine the cost of a launch. This information can be used if an alternate company wants to bid against SpaceX for a rocket launch. In this lab, you will collect and make sure the data is in the correct format from an API. The following is an example of a successful and launch."
      ]
    },
    {
      "cell_type": "markdown",
      "id": "8a82a32b-b2fa-4d97-8dc2-98d98d22865a",
      "metadata": {
        "id": "8a82a32b-b2fa-4d97-8dc2-98d98d22865a"
      },
      "source": [
        "### Objectives\n",
        "\n",
        "\n",
        "\n",
        "\n",
        "\n",
        "\n",
        "In this lab, you will make a get request to the SpaceX API. You will also do some basic data wrangling and formating. \n",
        "\n",
        "- Request to the SpaceX API\n",
        "- Clean the requested data"
      ]
    },
    {
      "cell_type": "markdown",
      "id": "a727ac00-7244-4d2d-93bb-88318a19fb49",
      "metadata": {
        "id": "a727ac00-7244-4d2d-93bb-88318a19fb49"
      },
      "source": [
        "#### Import Libraries and Define Auxiliary Functions\n",
        "\n",
        "\n",
        "\n",
        "\n",
        "\n",
        "\n",
        "#### We will import the following libraries into the lab"
      ]
    },
    {
      "cell_type": "code",
      "execution_count": 1,
      "id": "3bf201d0-724a-48de-869f-c172b6e659ea",
      "metadata": {
        "id": "3bf201d0-724a-48de-869f-c172b6e659ea"
      },
      "outputs": [],
      "source": [
        "# Requests allows us to make HTTP requests which we will use to get data from an API\n",
        "import requests\n",
        "# Pandas is a software library written for the Python programming language for data manipulation and analysis.\n",
        "import pandas as pd\n",
        "# NumPy is a library for the Python programming language, adding support for large, multi-dimensional arrays and matrices, along with a large collection of high-level mathematical functions to operate on these arrays\n",
        "import numpy as np\n",
        "# Datetime is a library that allows us to represent dates\n",
        "import datetime\n",
        "\n",
        "# Setting this option will print all collumns of a dataframe\n",
        "pd.set_option('display.max_columns', None)\n",
        "# Setting this option will print all of the data in a feature\n",
        "pd.set_option('display.max_colwidth', None)"
      ]
    },
    {
      "cell_type": "markdown",
      "id": "18cadc46-8e2f-4aed-adc5-102f714978ec",
      "metadata": {
        "id": "18cadc46-8e2f-4aed-adc5-102f714978ec"
      },
      "source": [
        "Below we will define a series of helper functions that will help us use the API to extract information using identification numbers in the launch data.\n",
        "\n",
        "From the rocket column we would like to learn the booster name."
      ]
    },
    {
      "cell_type": "code",
      "execution_count": 2,
      "id": "f27ace55-d47c-462a-8226-be91040be2fe",
      "metadata": {
        "id": "f27ace55-d47c-462a-8226-be91040be2fe"
      },
      "outputs": [],
      "source": [
        "# Takes the dataset and uses the rocket column to call the API and append the data to the list\n",
        "def getBoosterVersion(data):\n",
        "    for x in data['rocket']:\n",
        "       if x:\n",
        "        response = requests.get(\"https://api.spacexdata.com/v4/rockets/\"+str(x)).json()\n",
        "        BoosterVersion.append(response['name'])"
      ]
    },
    {
      "cell_type": "markdown",
      "id": "0948c5bf-73ad-4cd9-b93a-e6672f9bc61e",
      "metadata": {
        "id": "0948c5bf-73ad-4cd9-b93a-e6672f9bc61e"
      },
      "source": [
        "From the launchpad we would like to know the name of the launch site being used, the logitude, and the latitude."
      ]
    },
    {
      "cell_type": "code",
      "execution_count": 3,
      "id": "bbefa852-7ee3-4888-92e2-eb06880b6389",
      "metadata": {
        "id": "bbefa852-7ee3-4888-92e2-eb06880b6389"
      },
      "outputs": [],
      "source": [
        "# Takes the dataset and uses the launchpad column to call the API and append the data to the list\n",
        "def getLaunchSite(data):\n",
        "    for x in data['launchpad']:\n",
        "       if x:\n",
        "         response = requests.get(\"https://api.spacexdata.com/v4/launchpads/\"+str(x)).json()\n",
        "         Longitude.append(response['longitude'])\n",
        "         Latitude.append(response['latitude'])\n",
        "         LaunchSite.append(response['name'])"
      ]
    },
    {
      "cell_type": "markdown",
      "id": "c40d03be-3e30-45f7-9ea6-4deed40c8e70",
      "metadata": {
        "id": "c40d03be-3e30-45f7-9ea6-4deed40c8e70"
      },
      "source": [
        "From the payload we would like to learn the mass of the payload and the orbit that it is going to."
      ]
    },
    {
      "cell_type": "code",
      "execution_count": 4,
      "id": "eba5269a-75bf-4694-b9aa-0202e124394c",
      "metadata": {
        "id": "eba5269a-75bf-4694-b9aa-0202e124394c"
      },
      "outputs": [],
      "source": [
        "# Takes the dataset and uses the payloads column to call the API and append the data to the lists\n",
        "def getPayloadData(data):\n",
        "    for load in data['payloads']:\n",
        "       if load:\n",
        "        response = requests.get(\"https://api.spacexdata.com/v4/payloads/\"+load).json()\n",
        "        PayloadMass.append(response['mass_kg'])\n",
        "        Orbit.append(response['orbit'])"
      ]
    },
    {
      "cell_type": "markdown",
      "id": "6706da27-e664-4fbf-a37c-06536cb6a174",
      "metadata": {
        "id": "6706da27-e664-4fbf-a37c-06536cb6a174"
      },
      "source": [
        "From cores we would like to learn the outcome of the landing, the type of the landing, number of flights with that core, whether gridfins were used, wheter the core is reused, wheter legs were used, the landing pad used, the block of the core which is a number used to seperate version of cores, the number of times this specific core has been reused, and the serial of the core."
      ]
    },
    {
      "cell_type": "code",
      "execution_count": 5,
      "id": "5fa3f2af-cf78-43e2-8aef-4e7aef22dbd1",
      "metadata": {
        "id": "5fa3f2af-cf78-43e2-8aef-4e7aef22dbd1"
      },
      "outputs": [],
      "source": [
        "# Takes the dataset and uses the cores column to call the API and append the data to the lists\n",
        "def getCoreData(data):\n",
        "    for core in data['cores']:\n",
        "            if core['core'] != None:\n",
        "                response = requests.get(\"https://api.spacexdata.com/v4/cores/\"+core['core']).json()\n",
        "                Block.append(response['block'])\n",
        "                ReusedCount.append(response['reuse_count'])\n",
        "                Serial.append(response['serial'])\n",
        "            else:\n",
        "                Block.append(None)\n",
        "                ReusedCount.append(None)\n",
        "                Serial.append(None)\n",
        "            Outcome.append(str(core['landing_success'])+' '+str(core['landing_type']))\n",
        "            Flights.append(core['flight'])\n",
        "            GridFins.append(core['gridfins'])\n",
        "            Reused.append(core['reused'])\n",
        "            Legs.append(core['legs'])\n",
        "            LandingPad.append(core['landpad'])"
      ]
    },
    {
      "cell_type": "markdown",
      "id": "b611e00b-b7d0-40ce-a349-4746705d7a88",
      "metadata": {
        "id": "b611e00b-b7d0-40ce-a349-4746705d7a88"
      },
      "source": [
        "Now let's start requesting rocket launch data from SpaceX API with the following URL:"
      ]
    },
    {
      "cell_type": "code",
      "execution_count": 6,
      "id": "b8d60d37-a4f5-4b3e-af6f-36f94c2b2fda",
      "metadata": {
        "id": "b8d60d37-a4f5-4b3e-af6f-36f94c2b2fda"
      },
      "outputs": [],
      "source": [
        "spacex_url=\"https://api.spacexdata.com/v4/launches/past\""
      ]
    },
    {
      "cell_type": "code",
      "execution_count": 7,
      "id": "7e7efa0d-50cb-4a55-b331-0f7e94d54e1e",
      "metadata": {
        "id": "7e7efa0d-50cb-4a55-b331-0f7e94d54e1e"
      },
      "outputs": [],
      "source": [
        "response = requests.get(spacex_url)"
      ]
    },
    {
      "cell_type": "code",
      "execution_count": 8,
      "id": "913577f3-cf81-4ce1-b33e-745bc4500a4b",
      "metadata": {
        "id": "913577f3-cf81-4ce1-b33e-745bc4500a4b"
      },
      "outputs": [],
      "source": [
        "static_json_url='https://cf-courses-data.s3.us.cloud-object-storage.appdomain.cloud/IBM-DS0321EN-SkillsNetwork/datasets/API_call_spacex_api.json'"
      ]
    },
    {
      "cell_type": "markdown",
      "id": "f7beb273-9f89-4a58-ac1f-2a19858fb55e",
      "metadata": {
        "id": "f7beb273-9f89-4a58-ac1f-2a19858fb55e"
      },
      "source": [
        "Check the content of the response\n",
        "\n",
        "You should see the response contains massive information about SpaceX launches. Next, let's try to discover some more relevant information for this project.\n",
        "\n",
        "Task 1: Request and parse the SpaceX launch data using the GET request\n",
        "\n",
        "\n",
        "\n",
        "\n",
        "\n",
        "\n",
        "To make the requested JSON results more consistent, we will use the following static response object for this project:"
      ]
    },
    {
      "cell_type": "code",
      "execution_count": 9,
      "id": "1c4486c5-8971-421f-af30-be751d87fd99",
      "metadata": {
        "colab": {
          "base_uri": "https://localhost:8080/"
        },
        "id": "1c4486c5-8971-421f-af30-be751d87fd99",
        "outputId": "1352840c-42d0-4653-8fcd-690c8d5db960"
      },
      "outputs": [
        {
          "output_type": "execute_result",
          "data": {
            "text/plain": [
              "200"
            ]
          },
          "metadata": {},
          "execution_count": 9
        }
      ],
      "source": [
        "response.status_code"
      ]
    },
    {
      "cell_type": "code",
      "execution_count": 10,
      "id": "a9277fa8-b98a-4471-b69c-31c269b40b01",
      "metadata": {
        "id": "a9277fa8-b98a-4471-b69c-31c269b40b01"
      },
      "outputs": [],
      "source": [
        "static_json_url='https://cf-courses-data.s3.us.cloud-object-storage.appdomain.cloud/IBM-DS0321EN-SkillsNetwork/datasets/API_call_spacex_api.json'"
      ]
    },
    {
      "cell_type": "markdown",
      "id": "90985e52-2f49-47af-9adf-f86a3ff1ee23",
      "metadata": {
        "id": "90985e52-2f49-47af-9adf-f86a3ff1ee23"
      },
      "source": [
        "We should see that the request was successfull with the 200 status response code\n",
        "\n",
        "response.status_code\n",
        "Now we decode the response content as a Json using .json() and turn it into a Pandas dataframe using .json_normalize()"
      ]
    },
    {
      "cell_type": "code",
      "execution_count": 11,
      "id": "10b46d97-1a5e-480d-ab2a-fdff5aa8ebea",
      "metadata": {
        "id": "10b46d97-1a5e-480d-ab2a-fdff5aa8ebea"
      },
      "outputs": [],
      "source": [
        "# Use json_normalize meethod to convert the json result into a dataframe"
      ]
    },
    {
      "cell_type": "code",
      "execution_count": 12,
      "id": "5fcbe585-1dc8-4b22-8739-2086bf466553",
      "metadata": {
        "id": "5fcbe585-1dc8-4b22-8739-2086bf466553"
      },
      "outputs": [],
      "source": [
        "data= response.json()"
      ]
    },
    {
      "cell_type": "code",
      "execution_count": 13,
      "id": "2a46c8a1-8678-4ce1-853b-a43409a62e5d",
      "metadata": {
        "id": "2a46c8a1-8678-4ce1-853b-a43409a62e5d"
      },
      "outputs": [],
      "source": [
        "data=pd.json_normalize(data)"
      ]
    },
    {
      "cell_type": "markdown",
      "id": "516b87b1-8d51-4880-ad67-5b97f4589477",
      "metadata": {
        "id": "516b87b1-8d51-4880-ad67-5b97f4589477"
      },
      "source": [
        "#### Get the head of the dataframe\n",
        "Using the dataframe data print the first 5 rows"
      ]
    },
    {
      "cell_type": "code",
      "execution_count": 14,
      "id": "a2d67fc0-9b1d-4a98-975f-bf798f8e656b",
      "metadata": {
        "colab": {
          "base_uri": "https://localhost:8080/",
          "height": 627
        },
        "id": "a2d67fc0-9b1d-4a98-975f-bf798f8e656b",
        "outputId": "659fd5ac-0350-40d7-b453-ac7366f5fadf"
      },
      "outputs": [
        {
          "output_type": "execute_result",
          "data": {
            "text/plain": [
              "       static_fire_date_utc  static_fire_date_unix    net  window  \\\n",
              "0  2006-03-17T00:00:00.000Z           1.142554e+09  False     0.0   \n",
              "1                      None                    NaN  False     0.0   \n",
              "\n",
              "                     rocket success  \\\n",
              "0  5e9d0d95eda69955f709d1eb   False   \n",
              "1  5e9d0d95eda69955f709d1eb   False   \n",
              "\n",
              "                                                                                                  failures  \\\n",
              "0                                      [{'time': 33, 'altitude': None, 'reason': 'merlin engine failure'}]   \n",
              "1  [{'time': 301, 'altitude': 289, 'reason': 'harmonic oscillation leading to premature engine shutdown'}]   \n",
              "\n",
              "                                                                                                                                                                                details  \\\n",
              "0                                                                                                                                      Engine failure at 33 seconds and loss of vehicle   \n",
              "1  Successful first stage burn and transition to second stage, maximum altitude 289 km, Premature engine shutdown at T+7 min 30 s, Failed to reach orbit, Failed to recover first stage   \n",
              "\n",
              "  crew ships capsules                    payloads                 launchpad  \\\n",
              "0   []    []       []  [5eb0e4b5b6c3bb0006eeb1e1]  5e9e4502f5090995de566f86   \n",
              "1   []    []       []  [5eb0e4b6b6c3bb0006eeb1e2]  5e9e4502f5090995de566f86   \n",
              "\n",
              "   flight_number       name                  date_utc   date_unix  \\\n",
              "0              1  FalconSat  2006-03-24T22:30:00.000Z  1143239400   \n",
              "1              2    DemoSat  2007-03-21T01:10:00.000Z  1174439400   \n",
              "\n",
              "                  date_local date_precision  upcoming  \\\n",
              "0  2006-03-25T10:30:00+12:00           hour     False   \n",
              "1  2007-03-21T13:10:00+12:00           hour     False   \n",
              "\n",
              "                                                                                                                                                                                              cores  \\\n",
              "0  [{'core': '5e9e289df35918033d3b2623', 'flight': 1, 'gridfins': False, 'legs': False, 'reused': False, 'landing_attempt': False, 'landing_success': None, 'landing_type': None, 'landpad': None}]   \n",
              "1  [{'core': '5e9e289ef35918416a3b2624', 'flight': 1, 'gridfins': False, 'legs': False, 'reused': False, 'landing_attempt': False, 'landing_success': None, 'landing_type': None, 'landpad': None}]   \n",
              "\n",
              "   auto_update    tbd launch_library_id                        id  \\\n",
              "0         True  False              None  5eb87cd9ffd86e000604b32a   \n",
              "1         True  False              None  5eb87cdaffd86e000604b32b   \n",
              "\n",
              "  fairings.reused fairings.recovery_attempt fairings.recovered fairings.ships  \\\n",
              "0           False                     False              False             []   \n",
              "1           False                     False              False             []   \n",
              "\n",
              "                                 links.patch.small  \\\n",
              "0  https://images2.imgbox.com/94/f2/NN6Ph45r_o.png   \n",
              "1  https://images2.imgbox.com/f9/4a/ZboXReNb_o.png   \n",
              "\n",
              "                                 links.patch.large links.reddit.campaign  \\\n",
              "0  https://images2.imgbox.com/5b/02/QcxHUb5V_o.png                  None   \n",
              "1  https://images2.imgbox.com/80/a2/bkWotCIS_o.png                  None   \n",
              "\n",
              "  links.reddit.launch links.reddit.media links.reddit.recovery  \\\n",
              "0                None               None                  None   \n",
              "1                None               None                  None   \n",
              "\n",
              "  links.flickr.small links.flickr.original links.presskit  \\\n",
              "0                 []                    []           None   \n",
              "1                 []                    []           None   \n",
              "\n",
              "                                 links.webcast links.youtube_id  \\\n",
              "0  https://www.youtube.com/watch?v=0a_00nJ_Y88      0a_00nJ_Y88   \n",
              "1  https://www.youtube.com/watch?v=Lk4zQ2wP-Nc      Lk4zQ2wP-Nc   \n",
              "\n",
              "                                                                  links.article  \\\n",
              "0  https://www.space.com/2196-spacex-inaugural-falcon-1-rocket-lost-launch.html   \n",
              "1      https://www.space.com/3590-spacex-falcon-1-rocket-fails-reach-orbit.html   \n",
              "\n",
              "                         links.wikipedia  fairings  \n",
              "0  https://en.wikipedia.org/wiki/DemoSat       NaN  \n",
              "1  https://en.wikipedia.org/wiki/DemoSat       NaN  "
            ],
            "text/html": [
              "\n",
              "  <div id=\"df-e0c5ce23-28bf-419d-9c0c-78e963ed7043\">\n",
              "    <div class=\"colab-df-container\">\n",
              "      <div>\n",
              "<style scoped>\n",
              "    .dataframe tbody tr th:only-of-type {\n",
              "        vertical-align: middle;\n",
              "    }\n",
              "\n",
              "    .dataframe tbody tr th {\n",
              "        vertical-align: top;\n",
              "    }\n",
              "\n",
              "    .dataframe thead th {\n",
              "        text-align: right;\n",
              "    }\n",
              "</style>\n",
              "<table border=\"1\" class=\"dataframe\">\n",
              "  <thead>\n",
              "    <tr style=\"text-align: right;\">\n",
              "      <th></th>\n",
              "      <th>static_fire_date_utc</th>\n",
              "      <th>static_fire_date_unix</th>\n",
              "      <th>net</th>\n",
              "      <th>window</th>\n",
              "      <th>rocket</th>\n",
              "      <th>success</th>\n",
              "      <th>failures</th>\n",
              "      <th>details</th>\n",
              "      <th>crew</th>\n",
              "      <th>ships</th>\n",
              "      <th>capsules</th>\n",
              "      <th>payloads</th>\n",
              "      <th>launchpad</th>\n",
              "      <th>flight_number</th>\n",
              "      <th>name</th>\n",
              "      <th>date_utc</th>\n",
              "      <th>date_unix</th>\n",
              "      <th>date_local</th>\n",
              "      <th>date_precision</th>\n",
              "      <th>upcoming</th>\n",
              "      <th>cores</th>\n",
              "      <th>auto_update</th>\n",
              "      <th>tbd</th>\n",
              "      <th>launch_library_id</th>\n",
              "      <th>id</th>\n",
              "      <th>fairings.reused</th>\n",
              "      <th>fairings.recovery_attempt</th>\n",
              "      <th>fairings.recovered</th>\n",
              "      <th>fairings.ships</th>\n",
              "      <th>links.patch.small</th>\n",
              "      <th>links.patch.large</th>\n",
              "      <th>links.reddit.campaign</th>\n",
              "      <th>links.reddit.launch</th>\n",
              "      <th>links.reddit.media</th>\n",
              "      <th>links.reddit.recovery</th>\n",
              "      <th>links.flickr.small</th>\n",
              "      <th>links.flickr.original</th>\n",
              "      <th>links.presskit</th>\n",
              "      <th>links.webcast</th>\n",
              "      <th>links.youtube_id</th>\n",
              "      <th>links.article</th>\n",
              "      <th>links.wikipedia</th>\n",
              "      <th>fairings</th>\n",
              "    </tr>\n",
              "  </thead>\n",
              "  <tbody>\n",
              "    <tr>\n",
              "      <th>0</th>\n",
              "      <td>2006-03-17T00:00:00.000Z</td>\n",
              "      <td>1.142554e+09</td>\n",
              "      <td>False</td>\n",
              "      <td>0.0</td>\n",
              "      <td>5e9d0d95eda69955f709d1eb</td>\n",
              "      <td>False</td>\n",
              "      <td>[{'time': 33, 'altitude': None, 'reason': 'merlin engine failure'}]</td>\n",
              "      <td>Engine failure at 33 seconds and loss of vehicle</td>\n",
              "      <td>[]</td>\n",
              "      <td>[]</td>\n",
              "      <td>[]</td>\n",
              "      <td>[5eb0e4b5b6c3bb0006eeb1e1]</td>\n",
              "      <td>5e9e4502f5090995de566f86</td>\n",
              "      <td>1</td>\n",
              "      <td>FalconSat</td>\n",
              "      <td>2006-03-24T22:30:00.000Z</td>\n",
              "      <td>1143239400</td>\n",
              "      <td>2006-03-25T10:30:00+12:00</td>\n",
              "      <td>hour</td>\n",
              "      <td>False</td>\n",
              "      <td>[{'core': '5e9e289df35918033d3b2623', 'flight': 1, 'gridfins': False, 'legs': False, 'reused': False, 'landing_attempt': False, 'landing_success': None, 'landing_type': None, 'landpad': None}]</td>\n",
              "      <td>True</td>\n",
              "      <td>False</td>\n",
              "      <td>None</td>\n",
              "      <td>5eb87cd9ffd86e000604b32a</td>\n",
              "      <td>False</td>\n",
              "      <td>False</td>\n",
              "      <td>False</td>\n",
              "      <td>[]</td>\n",
              "      <td>https://images2.imgbox.com/94/f2/NN6Ph45r_o.png</td>\n",
              "      <td>https://images2.imgbox.com/5b/02/QcxHUb5V_o.png</td>\n",
              "      <td>None</td>\n",
              "      <td>None</td>\n",
              "      <td>None</td>\n",
              "      <td>None</td>\n",
              "      <td>[]</td>\n",
              "      <td>[]</td>\n",
              "      <td>None</td>\n",
              "      <td>https://www.youtube.com/watch?v=0a_00nJ_Y88</td>\n",
              "      <td>0a_00nJ_Y88</td>\n",
              "      <td>https://www.space.com/2196-spacex-inaugural-falcon-1-rocket-lost-launch.html</td>\n",
              "      <td>https://en.wikipedia.org/wiki/DemoSat</td>\n",
              "      <td>NaN</td>\n",
              "    </tr>\n",
              "    <tr>\n",
              "      <th>1</th>\n",
              "      <td>None</td>\n",
              "      <td>NaN</td>\n",
              "      <td>False</td>\n",
              "      <td>0.0</td>\n",
              "      <td>5e9d0d95eda69955f709d1eb</td>\n",
              "      <td>False</td>\n",
              "      <td>[{'time': 301, 'altitude': 289, 'reason': 'harmonic oscillation leading to premature engine shutdown'}]</td>\n",
              "      <td>Successful first stage burn and transition to second stage, maximum altitude 289 km, Premature engine shutdown at T+7 min 30 s, Failed to reach orbit, Failed to recover first stage</td>\n",
              "      <td>[]</td>\n",
              "      <td>[]</td>\n",
              "      <td>[]</td>\n",
              "      <td>[5eb0e4b6b6c3bb0006eeb1e2]</td>\n",
              "      <td>5e9e4502f5090995de566f86</td>\n",
              "      <td>2</td>\n",
              "      <td>DemoSat</td>\n",
              "      <td>2007-03-21T01:10:00.000Z</td>\n",
              "      <td>1174439400</td>\n",
              "      <td>2007-03-21T13:10:00+12:00</td>\n",
              "      <td>hour</td>\n",
              "      <td>False</td>\n",
              "      <td>[{'core': '5e9e289ef35918416a3b2624', 'flight': 1, 'gridfins': False, 'legs': False, 'reused': False, 'landing_attempt': False, 'landing_success': None, 'landing_type': None, 'landpad': None}]</td>\n",
              "      <td>True</td>\n",
              "      <td>False</td>\n",
              "      <td>None</td>\n",
              "      <td>5eb87cdaffd86e000604b32b</td>\n",
              "      <td>False</td>\n",
              "      <td>False</td>\n",
              "      <td>False</td>\n",
              "      <td>[]</td>\n",
              "      <td>https://images2.imgbox.com/f9/4a/ZboXReNb_o.png</td>\n",
              "      <td>https://images2.imgbox.com/80/a2/bkWotCIS_o.png</td>\n",
              "      <td>None</td>\n",
              "      <td>None</td>\n",
              "      <td>None</td>\n",
              "      <td>None</td>\n",
              "      <td>[]</td>\n",
              "      <td>[]</td>\n",
              "      <td>None</td>\n",
              "      <td>https://www.youtube.com/watch?v=Lk4zQ2wP-Nc</td>\n",
              "      <td>Lk4zQ2wP-Nc</td>\n",
              "      <td>https://www.space.com/3590-spacex-falcon-1-rocket-fails-reach-orbit.html</td>\n",
              "      <td>https://en.wikipedia.org/wiki/DemoSat</td>\n",
              "      <td>NaN</td>\n",
              "    </tr>\n",
              "  </tbody>\n",
              "</table>\n",
              "</div>\n",
              "      <button class=\"colab-df-convert\" onclick=\"convertToInteractive('df-e0c5ce23-28bf-419d-9c0c-78e963ed7043')\"\n",
              "              title=\"Convert this dataframe to an interactive table.\"\n",
              "              style=\"display:none;\">\n",
              "        \n",
              "  <svg xmlns=\"http://www.w3.org/2000/svg\" height=\"24px\"viewBox=\"0 0 24 24\"\n",
              "       width=\"24px\">\n",
              "    <path d=\"M0 0h24v24H0V0z\" fill=\"none\"/>\n",
              "    <path d=\"M18.56 5.44l.94 2.06.94-2.06 2.06-.94-2.06-.94-.94-2.06-.94 2.06-2.06.94zm-11 1L8.5 8.5l.94-2.06 2.06-.94-2.06-.94L8.5 2.5l-.94 2.06-2.06.94zm10 10l.94 2.06.94-2.06 2.06-.94-2.06-.94-.94-2.06-.94 2.06-2.06.94z\"/><path d=\"M17.41 7.96l-1.37-1.37c-.4-.4-.92-.59-1.43-.59-.52 0-1.04.2-1.43.59L10.3 9.45l-7.72 7.72c-.78.78-.78 2.05 0 2.83L4 21.41c.39.39.9.59 1.41.59.51 0 1.02-.2 1.41-.59l7.78-7.78 2.81-2.81c.8-.78.8-2.07 0-2.86zM5.41 20L4 18.59l7.72-7.72 1.47 1.35L5.41 20z\"/>\n",
              "  </svg>\n",
              "      </button>\n",
              "      \n",
              "  <style>\n",
              "    .colab-df-container {\n",
              "      display:flex;\n",
              "      flex-wrap:wrap;\n",
              "      gap: 12px;\n",
              "    }\n",
              "\n",
              "    .colab-df-convert {\n",
              "      background-color: #E8F0FE;\n",
              "      border: none;\n",
              "      border-radius: 50%;\n",
              "      cursor: pointer;\n",
              "      display: none;\n",
              "      fill: #1967D2;\n",
              "      height: 32px;\n",
              "      padding: 0 0 0 0;\n",
              "      width: 32px;\n",
              "    }\n",
              "\n",
              "    .colab-df-convert:hover {\n",
              "      background-color: #E2EBFA;\n",
              "      box-shadow: 0px 1px 2px rgba(60, 64, 67, 0.3), 0px 1px 3px 1px rgba(60, 64, 67, 0.15);\n",
              "      fill: #174EA6;\n",
              "    }\n",
              "\n",
              "    [theme=dark] .colab-df-convert {\n",
              "      background-color: #3B4455;\n",
              "      fill: #D2E3FC;\n",
              "    }\n",
              "\n",
              "    [theme=dark] .colab-df-convert:hover {\n",
              "      background-color: #434B5C;\n",
              "      box-shadow: 0px 1px 3px 1px rgba(0, 0, 0, 0.15);\n",
              "      filter: drop-shadow(0px 1px 2px rgba(0, 0, 0, 0.3));\n",
              "      fill: #FFFFFF;\n",
              "    }\n",
              "  </style>\n",
              "\n",
              "      <script>\n",
              "        const buttonEl =\n",
              "          document.querySelector('#df-e0c5ce23-28bf-419d-9c0c-78e963ed7043 button.colab-df-convert');\n",
              "        buttonEl.style.display =\n",
              "          google.colab.kernel.accessAllowed ? 'block' : 'none';\n",
              "\n",
              "        async function convertToInteractive(key) {\n",
              "          const element = document.querySelector('#df-e0c5ce23-28bf-419d-9c0c-78e963ed7043');\n",
              "          const dataTable =\n",
              "            await google.colab.kernel.invokeFunction('convertToInteractive',\n",
              "                                                     [key], {});\n",
              "          if (!dataTable) return;\n",
              "\n",
              "          const docLinkHtml = 'Like what you see? Visit the ' +\n",
              "            '<a target=\"_blank\" href=https://colab.research.google.com/notebooks/data_table.ipynb>data table notebook</a>'\n",
              "            + ' to learn more about interactive tables.';\n",
              "          element.innerHTML = '';\n",
              "          dataTable['output_type'] = 'display_data';\n",
              "          await google.colab.output.renderOutput(dataTable, element);\n",
              "          const docLink = document.createElement('div');\n",
              "          docLink.innerHTML = docLinkHtml;\n",
              "          element.appendChild(docLink);\n",
              "        }\n",
              "      </script>\n",
              "    </div>\n",
              "  </div>\n",
              "  "
            ]
          },
          "metadata": {},
          "execution_count": 14
        }
      ],
      "source": [
        "data.head(2)"
      ]
    },
    {
      "cell_type": "code",
      "execution_count": 15,
      "id": "02ca5fcc-a304-468d-87b2-975b8709e53f",
      "metadata": {
        "colab": {
          "base_uri": "https://localhost:8080/"
        },
        "id": "02ca5fcc-a304-468d-87b2-975b8709e53f",
        "outputId": "16c93f6c-01ca-4670-983a-aba6c9d22b3c"
      },
      "outputs": [
        {
          "output_type": "stream",
          "name": "stdout",
          "text": [
            "<class 'pandas.core.frame.DataFrame'>\n",
            "RangeIndex: 187 entries, 0 to 186\n",
            "Data columns (total 43 columns):\n",
            " #   Column                     Non-Null Count  Dtype  \n",
            "---  ------                     --------------  -----  \n",
            " 0   static_fire_date_utc       121 non-null    object \n",
            " 1   static_fire_date_unix      121 non-null    float64\n",
            " 2   net                        187 non-null    bool   \n",
            " 3   window                     117 non-null    float64\n",
            " 4   rocket                     187 non-null    object \n",
            " 5   success                    186 non-null    object \n",
            " 6   failures                   187 non-null    object \n",
            " 7   details                    134 non-null    object \n",
            " 8   crew                       187 non-null    object \n",
            " 9   ships                      187 non-null    object \n",
            " 10  capsules                   187 non-null    object \n",
            " 11  payloads                   187 non-null    object \n",
            " 12  launchpad                  187 non-null    object \n",
            " 13  flight_number              187 non-null    int64  \n",
            " 14  name                       187 non-null    object \n",
            " 15  date_utc                   187 non-null    object \n",
            " 16  date_unix                  187 non-null    int64  \n",
            " 17  date_local                 187 non-null    object \n",
            " 18  date_precision             187 non-null    object \n",
            " 19  upcoming                   187 non-null    bool   \n",
            " 20  cores                      187 non-null    object \n",
            " 21  auto_update                187 non-null    bool   \n",
            " 22  tbd                        187 non-null    bool   \n",
            " 23  launch_library_id          69 non-null     object \n",
            " 24  id                         187 non-null    object \n",
            " 25  fairings.reused            93 non-null     object \n",
            " 26  fairings.recovery_attempt  107 non-null    object \n",
            " 27  fairings.recovered         85 non-null     object \n",
            " 28  fairings.ships             152 non-null    object \n",
            " 29  links.patch.small          187 non-null    object \n",
            " 30  links.patch.large          187 non-null    object \n",
            " 31  links.reddit.campaign      148 non-null    object \n",
            " 32  links.reddit.launch        164 non-null    object \n",
            " 33  links.reddit.media         88 non-null     object \n",
            " 34  links.reddit.recovery      93 non-null     object \n",
            " 35  links.flickr.small         187 non-null    object \n",
            " 36  links.flickr.original      187 non-null    object \n",
            " 37  links.presskit             91 non-null     object \n",
            " 38  links.webcast              185 non-null    object \n",
            " 39  links.youtube_id           185 non-null    object \n",
            " 40  links.article              142 non-null    object \n",
            " 41  links.wikipedia            155 non-null    object \n",
            " 42  fairings                   0 non-null      float64\n",
            "dtypes: bool(4), float64(3), int64(2), object(34)\n",
            "memory usage: 57.8+ KB\n"
          ]
        }
      ],
      "source": [
        "data.info()"
      ]
    },
    {
      "cell_type": "markdown",
      "id": "2e0d7c9d-6434-4ec7-821c-9a4729b2c013",
      "metadata": {
        "id": "2e0d7c9d-6434-4ec7-821c-9a4729b2c013"
      },
      "source": [
        "You will notice that a lot of the data are IDs. For example the rocket column has no information about the rocket just an identification number.\n",
        "\n",
        "We will now use the API again to get information about the launches using the IDs given for each launch. Specifically we will be using columns rocket, payloads, launchpad, and cores."
      ]
    },
    {
      "cell_type": "code",
      "execution_count": 16,
      "id": "65949b07-ad70-42cd-8ff6-34fc7bf12f97",
      "metadata": {
        "id": "65949b07-ad70-42cd-8ff6-34fc7bf12f97"
      },
      "outputs": [],
      "source": [
        "# Lets take a subset of our dataframe keeping only the features we want and the flight number, and date_utc.\n",
        "data = data[['rocket', 'payloads', 'launchpad', 'cores', 'flight_number', 'date_utc']]\n",
        "\n",
        "# We will remove rows with multiple cores because those are falcon rockets with 2 extra rocket boosters and rows that have multiple payloads in a single rocket.\n",
        "data = data[data['cores'].map(len)==1]\n",
        "data = data[data['payloads'].map(len)==1]\n",
        "\n",
        "# Since payloads and cores are lists of size 1 we will also extract the single value in the list and replace the feature.\n",
        "data['cores'] = data['cores'].map(lambda x : x[0])\n",
        "data['payloads'] = data['payloads'].map(lambda x : x[0])\n",
        "\n",
        "# We also want to convert the date_utc to a datetime datatype and then extracting the date leaving the time\n",
        "data['date'] = pd.to_datetime(data['date_utc']).dt.date\n",
        "\n",
        "# Using the date we will restrict the dates of the launches\n",
        "data = data[data['date'] <= datetime.date(2020, 11, 13)]"
      ]
    },
    {
      "cell_type": "markdown",
      "id": "c7348558-8cd3-445e-9c7f-4855b8af4f97",
      "metadata": {
        "id": "c7348558-8cd3-445e-9c7f-4855b8af4f97"
      },
      "source": [
        "* From the <code>rocket</code> we would like to learn the booster name\n",
        "\n",
        "* From the <code>payload</code> we would like to learn the mass of the payload and the orbit that it is going to\n",
        "\n",
        "* From the <code>launchpad</code> we would like to know the name of the launch site being used, the longitude, and the latitude.\n",
        "\n",
        "* From <code>cores</code> we would like to learn the outcome of the landing, the type of the landing, number of flights with that core, whether gridfins were used, whether the core is reused, whether legs were used, the landing pad used, the block of the core which is a number used to seperate version of cores, the number of times this specific core has been reused, and the serial of the core.\n",
        "\n",
        "The data from these requests will be stored in lists and will be used to create a new dataframe.\n"
      ]
    },
    {
      "cell_type": "code",
      "execution_count": 17,
      "id": "c531ce8c-101b-4b47-9870-63346a3fd9c6",
      "metadata": {
        "id": "c531ce8c-101b-4b47-9870-63346a3fd9c6"
      },
      "outputs": [],
      "source": [
        "BoosterVersion = []\n",
        "PayloadMass = []\n",
        "Orbit = []\n",
        "LaunchSite = []\n",
        "Outcome = []\n",
        "Flights = []\n",
        "GridFins = []\n",
        "Reused = []\n",
        "Legs = []\n",
        "LandingPad = []\n",
        "Block = []\n",
        "ReusedCount = []\n",
        "Serial = []\n",
        "Longitude = []\n",
        "Latitude = []"
      ]
    },
    {
      "cell_type": "markdown",
      "id": "808c97ed-7f3d-4113-ba84-09b81dd8e3c5",
      "metadata": {
        "id": "808c97ed-7f3d-4113-ba84-09b81dd8e3c5"
      },
      "source": [
        "These functions will apply the outputs globally to the above variables. Let's take a looks at BoosterVersion variable. Before we apply getBoosterVersion the list is empty:"
      ]
    },
    {
      "cell_type": "code",
      "execution_count": 18,
      "id": "60e53b5b-aa58-49f1-8dde-e5beeb3e21f0",
      "metadata": {
        "id": "60e53b5b-aa58-49f1-8dde-e5beeb3e21f0"
      },
      "outputs": [],
      "source": [
        "rockets= requests.get(\"https://api.spacexdata.com/v4/rockets/\").json()"
      ]
    },
    {
      "cell_type": "code",
      "execution_count": 19,
      "id": "b184314a-c4df-4f17-a970-96fcc137de76",
      "metadata": {
        "id": "b184314a-c4df-4f17-a970-96fcc137de76"
      },
      "outputs": [],
      "source": [
        "def getBoosterVersion(data):\n",
        "    for x in data['rocket']:\n",
        "        response= requests.get(\"https://api.spacexdata.com/v4/rockets/\"+ str(x)).json()\n",
        "        BoosterVersion.append(response['name'])"
      ]
    },
    {
      "cell_type": "markdown",
      "id": "463f2268-9226-4804-b4d9-8345263741ca",
      "metadata": {
        "id": "463f2268-9226-4804-b4d9-8345263741ca"
      },
      "source": [
        "Now, let's apply  getBoosterVersion function method to get the booster version"
      ]
    },
    {
      "cell_type": "code",
      "execution_count": 20,
      "id": "822290c5-c87b-424b-8856-ad39133bbcb4",
      "metadata": {
        "id": "822290c5-c87b-424b-8856-ad39133bbcb4"
      },
      "outputs": [],
      "source": [
        "# Call getBoosterVersion"
      ]
    },
    {
      "cell_type": "code",
      "execution_count": 21,
      "id": "d096c9c8-b164-4630-b04c-b22a9e52c6b3",
      "metadata": {
        "id": "d096c9c8-b164-4630-b04c-b22a9e52c6b3"
      },
      "outputs": [],
      "source": [
        "getBoosterVersion(data)"
      ]
    },
    {
      "cell_type": "code",
      "execution_count": 22,
      "id": "a96d59a3-d153-4edc-8425-41066b0ba39b",
      "metadata": {
        "colab": {
          "base_uri": "https://localhost:8080/"
        },
        "id": "a96d59a3-d153-4edc-8425-41066b0ba39b",
        "outputId": "524c2c6c-db52-48c4-fc3e-da8eef91b568"
      },
      "outputs": [
        {
          "output_type": "stream",
          "name": "stdout",
          "text": [
            "['Falcon 1', 'Falcon 1', 'Falcon 1', 'Falcon 1', 'Falcon 9', 'Falcon 9', 'Falcon 9', 'Falcon 9', 'Falcon 9', 'Falcon 9', 'Falcon 9', 'Falcon 9', 'Falcon 9', 'Falcon 9', 'Falcon 9', 'Falcon 9', 'Falcon 9', 'Falcon 9', 'Falcon 9', 'Falcon 9', 'Falcon 9', 'Falcon 9', 'Falcon 9', 'Falcon 9', 'Falcon 9', 'Falcon 9', 'Falcon 9', 'Falcon 9', 'Falcon 9', 'Falcon 9', 'Falcon 9', 'Falcon 9', 'Falcon 9', 'Falcon 9', 'Falcon 9', 'Falcon 9', 'Falcon 9', 'Falcon 9', 'Falcon 9', 'Falcon 9', 'Falcon 9', 'Falcon 9', 'Falcon 9', 'Falcon 9', 'Falcon 9', 'Falcon 9', 'Falcon 9', 'Falcon 9', 'Falcon 9', 'Falcon 9', 'Falcon 9', 'Falcon 9', 'Falcon 9', 'Falcon 9', 'Falcon 9', 'Falcon 9', 'Falcon 9', 'Falcon 9', 'Falcon 9', 'Falcon 9', 'Falcon 9', 'Falcon 9', 'Falcon 9', 'Falcon 9', 'Falcon 9', 'Falcon 9', 'Falcon 9', 'Falcon 9', 'Falcon 9', 'Falcon 9', 'Falcon 9', 'Falcon 9', 'Falcon 9', 'Falcon 9', 'Falcon 9', 'Falcon 9', 'Falcon 9', 'Falcon 9', 'Falcon 9', 'Falcon 9', 'Falcon 9', 'Falcon 9', 'Falcon 9', 'Falcon 9', 'Falcon 9', 'Falcon 9', 'Falcon 9', 'Falcon 9', 'Falcon 9', 'Falcon 9', 'Falcon 9', 'Falcon 9', 'Falcon 9', 'Falcon 9']\n"
          ]
        }
      ],
      "source": [
        "print(BoosterVersion)"
      ]
    },
    {
      "cell_type": "markdown",
      "id": "374d9811-377f-4e05-8a24-88dfc24c181a",
      "metadata": {
        "id": "374d9811-377f-4e05-8a24-88dfc24c181a"
      },
      "source": [
        "we can apply the rest of the functions here:"
      ]
    },
    {
      "cell_type": "code",
      "execution_count": 23,
      "id": "5f5456a1-479e-498c-b925-74b054661182",
      "metadata": {
        "id": "5f5456a1-479e-498c-b925-74b054661182"
      },
      "outputs": [],
      "source": [
        "# Call getPayloadData"
      ]
    },
    {
      "cell_type": "code",
      "execution_count": 24,
      "id": "9b2778e2-6d6c-4986-a8a7-80df8019b115",
      "metadata": {
        "id": "9b2778e2-6d6c-4986-a8a7-80df8019b115"
      },
      "outputs": [],
      "source": [
        "def getPayloadData(data):\n",
        "    for load in data['payloads']:\n",
        "        response= requests.get(\"https://api.spacexdata.com/v4/payloads/\"+ load).json()\n",
        "        PayloadMass.append(response['mass_kg'])\n",
        "        Orbit.append(response['orbit'])"
      ]
    },
    {
      "cell_type": "code",
      "execution_count": 25,
      "id": "baf4bec8-f0eb-470e-805b-c1fcb264ac3c",
      "metadata": {
        "id": "baf4bec8-f0eb-470e-805b-c1fcb264ac3c"
      },
      "outputs": [],
      "source": [
        "getPayloadData(data)"
      ]
    },
    {
      "cell_type": "markdown",
      "id": "eafa52cb-a3ed-4ae6-bd01-d9cbebe1cb06",
      "metadata": {
        "id": "eafa52cb-a3ed-4ae6-bd01-d9cbebe1cb06"
      },
      "source": [
        "the list has now been update"
      ]
    },
    {
      "cell_type": "code",
      "execution_count": 26,
      "id": "898884e1-083b-41ac-9084-799ac952f226",
      "metadata": {
        "colab": {
          "base_uri": "https://localhost:8080/"
        },
        "id": "898884e1-083b-41ac-9084-799ac952f226",
        "outputId": "7042a994-95fb-474f-cf17-55edb656b5af"
      },
      "outputs": [
        {
          "output_type": "execute_result",
          "data": {
            "text/plain": [
              "[20, None, 165, 200]"
            ]
          },
          "metadata": {},
          "execution_count": 26
        }
      ],
      "source": [
        "PayloadMass[0:4]"
      ]
    },
    {
      "cell_type": "code",
      "execution_count": 27,
      "id": "1530db9d-f694-4002-b8fb-59cebe873756",
      "metadata": {
        "colab": {
          "base_uri": "https://localhost:8080/"
        },
        "id": "1530db9d-f694-4002-b8fb-59cebe873756",
        "outputId": "23b83bc9-7201-4b8a-a5ae-0828d2636adb"
      },
      "outputs": [
        {
          "output_type": "execute_result",
          "data": {
            "text/plain": [
              "['LEO', 'LEO', 'LEO', 'LEO']"
            ]
          },
          "metadata": {},
          "execution_count": 27
        }
      ],
      "source": [
        "Orbit[0:4]"
      ]
    },
    {
      "cell_type": "code",
      "execution_count": 28,
      "id": "dd4cbe43-57d3-4e15-928b-3a3850201320",
      "metadata": {
        "id": "dd4cbe43-57d3-4e15-928b-3a3850201320"
      },
      "outputs": [],
      "source": [
        "# Call getLaunchSite"
      ]
    },
    {
      "cell_type": "code",
      "execution_count": 29,
      "id": "42ffa496-687c-47c7-ba98-59767c4d1724",
      "metadata": {
        "id": "42ffa496-687c-47c7-ba98-59767c4d1724"
      },
      "outputs": [],
      "source": [
        "def getLaunchSite(data):\n",
        "    for x in data['launchpad']:\n",
        "        response= requests.get(\"https://api.spacexdata.com/v4/launchpads/\"+str(data['launchpad'][0])).json()\n",
        "        LaunchSite.append(response['name'])\n",
        "        Longitude.append(response['longitude'])\n",
        "        Latitude.append(response['latitude'])"
      ]
    },
    {
      "cell_type": "code",
      "execution_count": 30,
      "id": "852966b6-2cc3-486e-bed4-f6894ab849b8",
      "metadata": {
        "id": "852966b6-2cc3-486e-bed4-f6894ab849b8"
      },
      "outputs": [],
      "source": [
        "getLaunchSite(data)"
      ]
    },
    {
      "cell_type": "code",
      "execution_count": 31,
      "id": "16806b50-56c7-4bc1-ad8a-7e955485e341",
      "metadata": {
        "colab": {
          "base_uri": "https://localhost:8080/"
        },
        "id": "16806b50-56c7-4bc1-ad8a-7e955485e341",
        "outputId": "92ff0909-06f7-45fc-a238-1fc64d9b2532"
      },
      "outputs": [
        {
          "output_type": "execute_result",
          "data": {
            "text/plain": [
              "['Kwajalein Atoll', 'Kwajalein Atoll', 'Kwajalein Atoll', 'Kwajalein Atoll']"
            ]
          },
          "metadata": {},
          "execution_count": 31
        }
      ],
      "source": [
        "LaunchSite[0:4]"
      ]
    },
    {
      "cell_type": "code",
      "execution_count": 32,
      "id": "1cfd441d-3969-4e64-a267-63e9e93f29f3",
      "metadata": {
        "id": "1cfd441d-3969-4e64-a267-63e9e93f29f3"
      },
      "outputs": [],
      "source": [
        "def getCoreData(data):\n",
        "    for core in data['cores']:\n",
        "        if core['core'] !=None:\n",
        "            response= requests.get(\"https://api.spacexdata.com/v4/cores/\"+core['core']).json()\n",
        "            Block.append(response['block'])\n",
        "            ReusedCount.append(response['reuse_count'])\n",
        "            Serial.append(response['serial'])\n",
        "        else:\n",
        "            Block.append(None)\n",
        "            ReusedCount.append(None)\n",
        "            Serial.append(None)\n",
        "        Outcome.append(str(core['landing_success'])+' '+str(core['landing_type']))\n",
        "        Flights.append(core['flight'])\n",
        "        GridFins.append(core['gridfins'])\n",
        "        Reused.append(core['reused'])\n",
        "        Legs.append(core['legs'])\n",
        "        LandingPad.append(core['landpad'])     "
      ]
    },
    {
      "cell_type": "code",
      "execution_count": 33,
      "id": "b471c19e-09dc-48bd-8fcd-126bea4eadc4",
      "metadata": {
        "id": "b471c19e-09dc-48bd-8fcd-126bea4eadc4"
      },
      "outputs": [],
      "source": [
        "getCoreData(data)"
      ]
    },
    {
      "cell_type": "code",
      "execution_count": 34,
      "id": "1d9dd2d1-f4af-4a8b-8ce8-3a47e8c59b64",
      "metadata": {
        "colab": {
          "base_uri": "https://localhost:8080/"
        },
        "id": "1d9dd2d1-f4af-4a8b-8ce8-3a47e8c59b64",
        "outputId": "5694f0ac-6c8e-4097-924e-3f4cfaef44bd"
      },
      "outputs": [
        {
          "output_type": "execute_result",
          "data": {
            "text/plain": [
              "['None None', 'None None', 'None None', 'None None', 'None None', 'None None']"
            ]
          },
          "metadata": {},
          "execution_count": 34
        }
      ],
      "source": [
        "Outcome[0:6]"
      ]
    },
    {
      "cell_type": "markdown",
      "id": "9fd46c43-fc7f-4934-9dde-901f538fa4e7",
      "metadata": {
        "id": "9fd46c43-fc7f-4934-9dde-901f538fa4e7"
      },
      "source": [
        "#### Finally lets construct our dataset using the data we have obtained. We we combine the columns into a dictionary."
      ]
    },
    {
      "cell_type": "code",
      "execution_count": 35,
      "id": "46819c73-f978-4baa-a488-0af7c39c3cd2",
      "metadata": {
        "id": "46819c73-f978-4baa-a488-0af7c39c3cd2"
      },
      "outputs": [],
      "source": [
        "launch_dict = {'FlightNumber': list(data['flight_number']),\n",
        "'Date': list(data['date']),\n",
        "'BoosterVersion':BoosterVersion,\n",
        "'PayloadMass':PayloadMass,\n",
        "'Orbit':Orbit,\n",
        "'LaunchSite':LaunchSite,\n",
        "'Outcome':Outcome,\n",
        "'Flights':Flights,\n",
        "'GridFins':GridFins,\n",
        "'Reused':Reused,\n",
        "'Legs':Legs,\n",
        "'LandingPad':LandingPad,\n",
        "'Block':Block,\n",
        "'ReusedCount':ReusedCount,\n",
        "'Serial':Serial,\n",
        "'Longitude': Longitude,\n",
        "'Latitude': Latitude}"
      ]
    },
    {
      "cell_type": "markdown",
      "id": "1efb7483-4b12-4b8e-9132-e06ca0f9804b",
      "metadata": {
        "id": "1efb7483-4b12-4b8e-9132-e06ca0f9804b"
      },
      "source": [
        "Then, we need to create a Pandas data frame from the dictionary launch_dict."
      ]
    },
    {
      "cell_type": "code",
      "execution_count": 36,
      "id": "8e51f15d-1d12-433f-9f86-8469a0b4ed41",
      "metadata": {
        "id": "8e51f15d-1d12-433f-9f86-8469a0b4ed41"
      },
      "outputs": [],
      "source": [
        "# Create a data from launch_dict"
      ]
    },
    {
      "cell_type": "code",
      "execution_count": 37,
      "id": "dd67fa71-4859-427b-acec-a7083c9b97cb",
      "metadata": {
        "colab": {
          "base_uri": "https://localhost:8080/"
        },
        "id": "dd67fa71-4859-427b-acec-a7083c9b97cb",
        "outputId": "c6705b16-71ba-4dd3-e776-55d7412ef21c"
      },
      "outputs": [
        {
          "output_type": "execute_result",
          "data": {
            "text/plain": [
              "94"
            ]
          },
          "metadata": {},
          "execution_count": 37
        }
      ],
      "source": [
        "len(GridFins)"
      ]
    },
    {
      "cell_type": "code",
      "execution_count": 38,
      "id": "aea42c21-64ca-45af-94a4-d28b6e14bd9f",
      "metadata": {
        "id": "aea42c21-64ca-45af-94a4-d28b6e14bd9f"
      },
      "outputs": [],
      "source": [
        "def pad_dict_list(dict_list, padel):\n",
        "    lmax = 0\n",
        "    for lname in dict_list.keys():\n",
        "        lmax = max(lmax, len(dict_list[lname]))\n",
        "    for lname in dict_list.keys():\n",
        "        l1 = len(dict_list[lname])\n",
        "        if l1 < lmax:\n",
        "            dict_list[lname] += [padel] * (lmax - l1)\n",
        "    return dict_list"
      ]
    },
    {
      "cell_type": "code",
      "execution_count": 39,
      "id": "f0175a21-8eeb-4772-a9e9-250337de634e",
      "metadata": {
        "colab": {
          "base_uri": "https://localhost:8080/"
        },
        "id": "f0175a21-8eeb-4772-a9e9-250337de634e",
        "outputId": "2b21ffd1-3ca6-4db1-f048-e5476b30b94b"
      },
      "outputs": [
        {
          "output_type": "stream",
          "name": "stdout",
          "text": [
            "{'FlightNumber': [1, 2, 4, 5, 6, 8, 10, 11, 12, 13, 14, 15, 16, 17, 18, 19, 20, 22, 23, 24, 25, 26, 27, 28, 29, 30, 32, 33, 34, 35, 36, 37, 38, 39, 40, 41, 42, 43, 44, 45, 46, 47, 48, 49, 50, 51, 52, 53, 54, 57, 58, 59, 60, 61, 63, 64, 65, 66, 67, 68, 69, 70, 71, 72, 73, 74, 76, 78, 79, 80, 82, 83, 84, 85, 86, 87, 88, 89, 90, 91, 92, 93, 94, 95, 96, 97, 98, 100, 101, 102, 103, 104, 105, 106], 'Date': [datetime.date(2006, 3, 24), datetime.date(2007, 3, 21), datetime.date(2008, 9, 28), datetime.date(2009, 7, 13), datetime.date(2010, 6, 4), datetime.date(2012, 5, 22), datetime.date(2013, 3, 1), datetime.date(2013, 9, 29), datetime.date(2013, 12, 3), datetime.date(2014, 1, 6), datetime.date(2014, 4, 18), datetime.date(2014, 7, 14), datetime.date(2014, 8, 5), datetime.date(2014, 9, 7), datetime.date(2014, 9, 21), datetime.date(2015, 1, 10), datetime.date(2015, 2, 11), datetime.date(2015, 4, 14), datetime.date(2015, 4, 27), datetime.date(2015, 6, 28), datetime.date(2015, 12, 22), datetime.date(2016, 1, 17), datetime.date(2016, 3, 4), datetime.date(2016, 4, 8), datetime.date(2016, 5, 6), datetime.date(2016, 5, 27), datetime.date(2016, 7, 18), datetime.date(2016, 8, 14), datetime.date(2016, 9, 1), datetime.date(2017, 1, 14), datetime.date(2017, 2, 19), datetime.date(2017, 3, 16), datetime.date(2017, 3, 30), datetime.date(2017, 5, 1), datetime.date(2017, 5, 15), datetime.date(2017, 6, 3), datetime.date(2017, 6, 23), datetime.date(2017, 6, 25), datetime.date(2017, 7, 5), datetime.date(2017, 8, 14), datetime.date(2017, 8, 24), datetime.date(2017, 9, 7), datetime.date(2017, 10, 9), datetime.date(2017, 10, 11), datetime.date(2017, 10, 30), datetime.date(2017, 12, 15), datetime.date(2017, 12, 23), datetime.date(2018, 1, 8), datetime.date(2018, 1, 31), datetime.date(2018, 3, 6), datetime.date(2018, 3, 30), datetime.date(2018, 4, 2), datetime.date(2018, 4, 18), datetime.date(2018, 5, 11), datetime.date(2018, 6, 4), datetime.date(2018, 6, 29), datetime.date(2018, 7, 22), datetime.date(2018, 7, 25), datetime.date(2018, 8, 7), datetime.date(2018, 9, 10), datetime.date(2018, 10, 8), datetime.date(2018, 11, 15), datetime.date(2018, 12, 3), datetime.date(2018, 12, 5), datetime.date(2018, 12, 23), datetime.date(2019, 1, 11), datetime.date(2019, 3, 2), datetime.date(2019, 5, 4), datetime.date(2019, 5, 24), datetime.date(2019, 6, 12), datetime.date(2019, 7, 25), datetime.date(2019, 8, 6), datetime.date(2019, 11, 11), datetime.date(2019, 12, 5), datetime.date(2019, 12, 17), datetime.date(2020, 1, 7), datetime.date(2020, 1, 19), datetime.date(2020, 1, 29), datetime.date(2020, 2, 17), datetime.date(2020, 3, 7), datetime.date(2020, 3, 18), datetime.date(2020, 4, 22), datetime.date(2020, 5, 30), datetime.date(2020, 6, 4), datetime.date(2020, 6, 13), datetime.date(2020, 6, 30), datetime.date(2020, 7, 20), datetime.date(2020, 8, 18), datetime.date(2020, 8, 30), datetime.date(2020, 9, 3), datetime.date(2020, 10, 6), datetime.date(2020, 10, 18), datetime.date(2020, 10, 24), datetime.date(2020, 11, 5)], 'BoosterVersion': ['Falcon 1', 'Falcon 1', 'Falcon 1', 'Falcon 1', 'Falcon 9', 'Falcon 9', 'Falcon 9', 'Falcon 9', 'Falcon 9', 'Falcon 9', 'Falcon 9', 'Falcon 9', 'Falcon 9', 'Falcon 9', 'Falcon 9', 'Falcon 9', 'Falcon 9', 'Falcon 9', 'Falcon 9', 'Falcon 9', 'Falcon 9', 'Falcon 9', 'Falcon 9', 'Falcon 9', 'Falcon 9', 'Falcon 9', 'Falcon 9', 'Falcon 9', 'Falcon 9', 'Falcon 9', 'Falcon 9', 'Falcon 9', 'Falcon 9', 'Falcon 9', 'Falcon 9', 'Falcon 9', 'Falcon 9', 'Falcon 9', 'Falcon 9', 'Falcon 9', 'Falcon 9', 'Falcon 9', 'Falcon 9', 'Falcon 9', 'Falcon 9', 'Falcon 9', 'Falcon 9', 'Falcon 9', 'Falcon 9', 'Falcon 9', 'Falcon 9', 'Falcon 9', 'Falcon 9', 'Falcon 9', 'Falcon 9', 'Falcon 9', 'Falcon 9', 'Falcon 9', 'Falcon 9', 'Falcon 9', 'Falcon 9', 'Falcon 9', 'Falcon 9', 'Falcon 9', 'Falcon 9', 'Falcon 9', 'Falcon 9', 'Falcon 9', 'Falcon 9', 'Falcon 9', 'Falcon 9', 'Falcon 9', 'Falcon 9', 'Falcon 9', 'Falcon 9', 'Falcon 9', 'Falcon 9', 'Falcon 9', 'Falcon 9', 'Falcon 9', 'Falcon 9', 'Falcon 9', 'Falcon 9', 'Falcon 9', 'Falcon 9', 'Falcon 9', 'Falcon 9', 'Falcon 9', 'Falcon 9', 'Falcon 9', 'Falcon 9', 'Falcon 9', 'Falcon 9', 'Falcon 9'], 'PayloadMass': [20, None, 165, 200, None, 525, 677, 500, 3170, 3325, 2296, 1316, 4535, 4428, 2216, 2395, 570, 1898, 4707, 2477, 2034, 553, 5271, 3136, 4696, 3100, 2257, 4600, 5500, 9600, 2490, 5600, 5300, None, 6070, 2708, 3669, 9600, 6761, 2910, 475, 4990, 9600, 5200, 3700, 2205, 9600, None, 4230, 6092, 9600, 2760, 350, 3750, 5383.85, 2410, 7076, 9600, 5800, 7060, 2800, 3000, 4000, 2573, 4400, 9600, 12259, 2482, 13200, 1425, 2227.7, 6500, 15600, 5000, 6800, 15600, None, 15600, 15600, 1977, 15600, 15600, 9525, 15600, 15600, 3880, None, 15600, 1600, 15600, 15600, 15600, 15600, 3681], 'Orbit': ['LEO', 'LEO', 'LEO', 'LEO', 'LEO', 'LEO', 'ISS', 'PO', 'GTO', 'GTO', 'ISS', 'LEO', 'GTO', 'GTO', 'ISS', 'ISS', 'ES-L1', 'ISS', 'GTO', 'ISS', 'LEO', 'PO', 'GTO', 'ISS', 'GTO', 'GTO', 'ISS', 'GTO', 'GTO', 'PO', 'ISS', 'GTO', 'GTO', 'LEO', 'GTO', 'ISS', 'GTO', 'PO', 'GTO', 'ISS', 'SSO', 'LEO', 'PO', 'GTO', 'GTO', 'ISS', 'PO', 'LEO', 'GTO', 'GTO', 'PO', 'ISS', 'HEO', 'GTO', 'GTO', 'ISS', 'GTO', 'PO', 'GTO', 'GTO', 'SSO', 'GTO', 'SSO', 'ISS', 'MEO', 'PO', 'ISS', 'ISS', 'VLEO', 'SSO', 'ISS', 'GTO', 'VLEO', 'ISS', 'GTO', 'VLEO', 'SO', 'VLEO', 'VLEO', 'ISS', 'VLEO', 'VLEO', 'ISS', 'VLEO', 'VLEO', 'MEO', 'GEO', 'VLEO', 'SSO', 'VLEO', 'VLEO', 'VLEO', 'VLEO', 'MEO'], 'LaunchSite': ['Kwajalein Atoll', 'Kwajalein Atoll', 'Kwajalein Atoll', 'Kwajalein Atoll', 'Kwajalein Atoll', 'Kwajalein Atoll', 'Kwajalein Atoll', 'Kwajalein Atoll', 'Kwajalein Atoll', 'Kwajalein Atoll', 'Kwajalein Atoll', 'Kwajalein Atoll', 'Kwajalein Atoll', 'Kwajalein Atoll', 'Kwajalein Atoll', 'Kwajalein Atoll', 'Kwajalein Atoll', 'Kwajalein Atoll', 'Kwajalein Atoll', 'Kwajalein Atoll', 'Kwajalein Atoll', 'Kwajalein Atoll', 'Kwajalein Atoll', 'Kwajalein Atoll', 'Kwajalein Atoll', 'Kwajalein Atoll', 'Kwajalein Atoll', 'Kwajalein Atoll', 'Kwajalein Atoll', 'Kwajalein Atoll', 'Kwajalein Atoll', 'Kwajalein Atoll', 'Kwajalein Atoll', 'Kwajalein Atoll', 'Kwajalein Atoll', 'Kwajalein Atoll', 'Kwajalein Atoll', 'Kwajalein Atoll', 'Kwajalein Atoll', 'Kwajalein Atoll', 'Kwajalein Atoll', 'Kwajalein Atoll', 'Kwajalein Atoll', 'Kwajalein Atoll', 'Kwajalein Atoll', 'Kwajalein Atoll', 'Kwajalein Atoll', 'Kwajalein Atoll', 'Kwajalein Atoll', 'Kwajalein Atoll', 'Kwajalein Atoll', 'Kwajalein Atoll', 'Kwajalein Atoll', 'Kwajalein Atoll', 'Kwajalein Atoll', 'Kwajalein Atoll', 'Kwajalein Atoll', 'Kwajalein Atoll', 'Kwajalein Atoll', 'Kwajalein Atoll', 'Kwajalein Atoll', 'Kwajalein Atoll', 'Kwajalein Atoll', 'Kwajalein Atoll', 'Kwajalein Atoll', 'Kwajalein Atoll', 'Kwajalein Atoll', 'Kwajalein Atoll', 'Kwajalein Atoll', 'Kwajalein Atoll', 'Kwajalein Atoll', 'Kwajalein Atoll', 'Kwajalein Atoll', 'Kwajalein Atoll', 'Kwajalein Atoll', 'Kwajalein Atoll', 'Kwajalein Atoll', 'Kwajalein Atoll', 'Kwajalein Atoll', 'Kwajalein Atoll', 'Kwajalein Atoll', 'Kwajalein Atoll', 'Kwajalein Atoll', 'Kwajalein Atoll', 'Kwajalein Atoll', 'Kwajalein Atoll', 'Kwajalein Atoll', 'Kwajalein Atoll', 'Kwajalein Atoll', 'Kwajalein Atoll', 'Kwajalein Atoll', 'Kwajalein Atoll', 'Kwajalein Atoll', 'Kwajalein Atoll'], 'Outcome': ['None None', 'None None', 'None None', 'None None', 'None None', 'None None', 'None None', 'False Ocean', 'None None', 'None None', 'True Ocean', 'True Ocean', 'None None', 'None None', 'False Ocean', 'False ASDS', 'True Ocean', 'False ASDS', 'None None', 'None ASDS', 'True RTLS', 'False ASDS', 'False ASDS', 'True ASDS', 'True ASDS', 'True ASDS', 'True RTLS', 'True ASDS', 'None ASDS', 'True ASDS', 'True RTLS', 'None None', 'True ASDS', 'True RTLS', 'None None', 'True RTLS', 'True ASDS', 'True ASDS', 'None None', 'True RTLS', 'True ASDS', 'True RTLS', 'True ASDS', 'True ASDS', 'True ASDS', 'True RTLS', 'True Ocean', 'True RTLS', 'True Ocean', 'None None', 'None None', 'None None', 'True ASDS', 'True ASDS', 'None None', 'None None', 'True ASDS', 'True ASDS', 'True ASDS', 'True ASDS', 'True RTLS', 'True ASDS', 'True ASDS', 'False RTLS', 'None None', 'True ASDS', 'True ASDS', 'True ASDS', 'True ASDS', 'True RTLS', 'True RTLS', 'None None', 'True ASDS', 'True ASDS', 'True ASDS', 'True ASDS', 'None None', 'True ASDS', 'False ASDS', 'True RTLS', 'False ASDS', 'True ASDS', 'True ASDS', 'True ASDS', 'True ASDS', 'True ASDS', 'True ASDS', 'True ASDS', 'True RTLS', 'True ASDS', 'True ASDS', 'True ASDS', 'True ASDS', 'True ASDS'], 'Flights': [1, 1, 1, 1, 1, 1, 1, 1, 1, 1, 1, 1, 1, 1, 1, 1, 1, 1, 1, 1, 1, 1, 1, 1, 1, 1, 1, 1, 1, 1, 1, 1, 2, 1, 1, 1, 2, 1, 1, 1, 1, 1, 1, 2, 1, 2, 2, 1, 2, 1, 2, 2, 1, 1, 2, 2, 1, 1, 2, 1, 2, 2, 3, 1, 1, 2, 1, 1, 3, 2, 2, 3, 4, 1, 3, 4, 4, 3, 4, 2, 5, 4, 1, 5, 3, 1, 2, 6, 4, 2, 3, 6, 3, 1], 'GridFins': [False, False, False, False, False, False, False, False, False, False, False, False, False, False, False, True, True, True, False, True, True, True, True, True, True, True, True, True, True, True, True, False, True, True, False, True, True, True, False, True, True, True, True, True, True, True, True, True, True, True, True, True, True, True, False, False, True, True, True, True, True, True, True, True, False, True, True, True, True, True, True, False, True, True, True, True, False, True, True, True, True, True, True, True, True, True, True, True, True, True, True, True, True, True], 'Reused': [False, False, False, False, False, False, False, False, False, False, False, False, False, False, False, False, False, False, False, False, False, False, False, False, False, False, False, False, False, False, False, False, True, False, False, False, True, False, False, False, False, False, False, True, False, True, True, False, True, False, True, True, False, False, True, True, False, False, True, False, True, True, True, False, False, True, False, False, True, True, True, True, True, False, True, True, True, True, True, True, True, True, False, True, True, False, True, True, True, True, True, True, True, False], 'Legs': [False, False, False, False, False, False, False, False, False, False, True, True, False, False, False, True, True, True, False, True, True, True, True, True, True, True, True, True, True, True, True, False, True, True, False, True, True, True, False, True, True, True, True, True, True, True, False, True, True, True, True, True, True, True, False, False, True, True, True, True, True, True, True, True, False, True, True, True, True, True, True, False, True, True, True, True, False, True, True, True, True, True, True, True, True, True, True, True, True, True, True, True, True, True], 'LandingPad': [None, None, None, None, None, None, None, None, None, None, None, None, None, None, None, '5e9e3032383ecb761634e7cb', None, '5e9e3032383ecb761634e7cb', None, '5e9e3032383ecb6bb234e7ca', '5e9e3032383ecb267a34e7c7', '5e9e3033383ecbb9e534e7cc', '5e9e3032383ecb6bb234e7ca', '5e9e3032383ecb6bb234e7ca', '5e9e3032383ecb6bb234e7ca', '5e9e3032383ecb6bb234e7ca', '5e9e3032383ecb267a34e7c7', '5e9e3032383ecb6bb234e7ca', '5e9e3032383ecb6bb234e7ca', '5e9e3033383ecbb9e534e7cc', '5e9e3032383ecb267a34e7c7', None, '5e9e3032383ecb6bb234e7ca', '5e9e3032383ecb267a34e7c7', None, '5e9e3032383ecb267a34e7c7', '5e9e3032383ecb6bb234e7ca', '5e9e3033383ecbb9e534e7cc', None, '5e9e3032383ecb267a34e7c7', '5e9e3033383ecbb9e534e7cc', '5e9e3032383ecb267a34e7c7', '5e9e3033383ecbb9e534e7cc', '5e9e3032383ecb6bb234e7ca', '5e9e3032383ecb6bb234e7ca', '5e9e3032383ecb267a34e7c7', None, '5e9e3032383ecb267a34e7c7', None, None, None, None, '5e9e3032383ecb6bb234e7ca', '5e9e3032383ecb6bb234e7ca', None, None, '5e9e3032383ecb6bb234e7ca', '5e9e3033383ecbb9e534e7cc', '5e9e3032383ecb6bb234e7ca', '5e9e3032383ecb6bb234e7ca', '5e9e3032383ecb554034e7c9', '5e9e3032383ecb6bb234e7ca', '5e9e3033383ecbb9e534e7cc', '5e9e3032383ecb267a34e7c7', None, '5e9e3033383ecbb9e534e7cc', '5e9e3032383ecb6bb234e7ca', '5e9e3032383ecb6bb234e7ca', '5e9e3032383ecb6bb234e7ca', '5e9e3032383ecb554034e7c9', '5e9e3032383ecb267a34e7c7', None, '5e9e3032383ecb6bb234e7ca', '5e9e3032383ecb6bb234e7ca', '5e9e3032383ecb6bb234e7ca', '5e9e3032383ecb6bb234e7ca', None, '5e9e3032383ecb6bb234e7ca', '5e9e3032383ecb6bb234e7ca', '5e9e3032383ecb267a34e7c7', '5e9e3032383ecb6bb234e7ca', '5e9e3032383ecb6bb234e7ca', '5e9e3032383ecb6bb234e7ca', '5e9e3033383ecbb9e534e7cc', '5e9e3032383ecb6bb234e7ca', '5e9e3033383ecbb9e534e7cc', '5e9e3033383ecbb9e534e7cc', '5e9e3032383ecb6bb234e7ca', '5e9e3032383ecb267a34e7c7', '5e9e3032383ecb6bb234e7ca', '5e9e3032383ecb6bb234e7ca', '5e9e3032383ecb6bb234e7ca', '5e9e3033383ecbb9e534e7cc', '5e9e3032383ecb6bb234e7ca'], 'Block': [None, None, None, None, 1, 1, 1, 1, 1, 1, 1, 1, 1, 1, 1, 1, 1, 1, 1, 1, 1, 1, 1, 2, 2, 2, 2, 2, 3, 3, 3, 3, 2, 3, 3, 3, 3, 3, 3, 4, 3, 4, 4, 3, 4, 3, 3, 4, 3, 4, 4, 4, 4, 5, 4, 4, 5, 5, 5, 5, 5, 5, 5, 5, 5, 5, 5, 5, 5, 5, 5, 5, 5, 5, 5, 5, 5, 5, 5, 5, 5, 5, 5, 5, 5, 5, 5, 5, 5, 5, 5, 5, 5, 5], 'ReusedCount': [0, 0, 0, 0, 0, 0, 0, 0, 0, 0, 0, 0, 0, 0, 0, 0, 0, 0, 0, 0, 0, 0, 0, 1, 0, 1, 1, 0, 0, 1, 1, 0, 1, 1, 0, 1, 1, 1, 0, 1, 1, 1, 1, 1, 0, 1, 1, 1, 1, 0, 1, 1, 1, 3, 1, 1, 2, 4, 3, 9, 4, 2, 3, 0, 0, 9, 12, 3, 9, 12, 3, 2, 4, 5, 3, 9, 3, 12, 3, 5, 4, 12, 13, 9, 5, 12, 13, 9, 5, 12, 13, 12, 12, 8], 'Serial': ['Merlin1A', 'Merlin2A', 'Merlin2C', 'Merlin3C', 'B0003', 'B0005', 'B0007', 'B1003', 'B1004', 'B1005', 'B1006', 'B1007', 'B1008', 'B1011', 'B1010', 'B1012', 'B1013', 'B1015', 'B1016', 'B1018', 'B1019', 'B1017', 'B1020', 'B1021', 'B1022', 'B1023', 'B1025', 'B1026', 'B1028', 'B1029', 'B1031', 'B1030', 'B1021', 'B1032', 'B1034', 'B1035', 'B1029', 'B1036', 'B1037', 'B1039', 'B1038', 'B1040', 'B1041', 'B1031', 'B1042', 'B1035', 'B1036', 'B1043', 'B1032', 'B1044', 'B1041', 'B1039', 'B1045', 'B1046', 'B1040', 'B1045', 'B1047', 'B1048', 'B1046', 'B1049', 'B1048', 'B1047', 'B1046', 'B1050', 'B1054', 'B1049', 'B1051', 'B1056', 'B1049', 'B1051', 'B1056', 'B1047', 'B1048', 'B1059', 'B1056', 'B1049', 'B1046', 'B1051', 'B1056', 'B1059', 'B1048', 'B1051', 'B1058', 'B1049', 'B1059', 'B1060', 'B1058', 'B1049', 'B1059', 'B1060', 'B1058', 'B1051', 'B1060', 'B1062'], 'Longitude': [167.7431292, 167.7431292, 167.7431292, 167.7431292, 167.7431292, 167.7431292, 167.7431292, 167.7431292, 167.7431292, 167.7431292, 167.7431292, 167.7431292, 167.7431292, 167.7431292, 167.7431292, 167.7431292, 167.7431292, 167.7431292, 167.7431292, 167.7431292, 167.7431292, 167.7431292, 167.7431292, 167.7431292, 167.7431292, 167.7431292, 167.7431292, 167.7431292, 167.7431292, 167.7431292, 167.7431292, 167.7431292, 167.7431292, 167.7431292, 167.7431292, 167.7431292, 167.7431292, 167.7431292, 167.7431292, 167.7431292, 167.7431292, 167.7431292, 167.7431292, 167.7431292, 167.7431292, 167.7431292, 167.7431292, 167.7431292, 167.7431292, 167.7431292, 167.7431292, 167.7431292, 167.7431292, 167.7431292, 167.7431292, 167.7431292, 167.7431292, 167.7431292, 167.7431292, 167.7431292, 167.7431292, 167.7431292, 167.7431292, 167.7431292, 167.7431292, 167.7431292, 167.7431292, 167.7431292, 167.7431292, 167.7431292, 167.7431292, 167.7431292, 167.7431292, 167.7431292, 167.7431292, 167.7431292, 167.7431292, 167.7431292, 167.7431292, 167.7431292, 167.7431292, 167.7431292, 167.7431292, 167.7431292, 167.7431292, 167.7431292, 167.7431292, 167.7431292, 167.7431292, 167.7431292, 167.7431292, 167.7431292, 167.7431292, 167.7431292], 'Latitude': [9.0477206, 9.0477206, 9.0477206, 9.0477206, 9.0477206, 9.0477206, 9.0477206, 9.0477206, 9.0477206, 9.0477206, 9.0477206, 9.0477206, 9.0477206, 9.0477206, 9.0477206, 9.0477206, 9.0477206, 9.0477206, 9.0477206, 9.0477206, 9.0477206, 9.0477206, 9.0477206, 9.0477206, 9.0477206, 9.0477206, 9.0477206, 9.0477206, 9.0477206, 9.0477206, 9.0477206, 9.0477206, 9.0477206, 9.0477206, 9.0477206, 9.0477206, 9.0477206, 9.0477206, 9.0477206, 9.0477206, 9.0477206, 9.0477206, 9.0477206, 9.0477206, 9.0477206, 9.0477206, 9.0477206, 9.0477206, 9.0477206, 9.0477206, 9.0477206, 9.0477206, 9.0477206, 9.0477206, 9.0477206, 9.0477206, 9.0477206, 9.0477206, 9.0477206, 9.0477206, 9.0477206, 9.0477206, 9.0477206, 9.0477206, 9.0477206, 9.0477206, 9.0477206, 9.0477206, 9.0477206, 9.0477206, 9.0477206, 9.0477206, 9.0477206, 9.0477206, 9.0477206, 9.0477206, 9.0477206, 9.0477206, 9.0477206, 9.0477206, 9.0477206, 9.0477206, 9.0477206, 9.0477206, 9.0477206, 9.0477206, 9.0477206, 9.0477206, 9.0477206, 9.0477206, 9.0477206, 9.0477206, 9.0477206, 9.0477206]}\n"
          ]
        }
      ],
      "source": [
        "print(pad_dict_list(launch_dict, 0))"
      ]
    },
    {
      "cell_type": "code",
      "execution_count": 40,
      "id": "4d8d94e7-0bb3-4d79-bf6b-a3bab6d078a3",
      "metadata": {
        "id": "4d8d94e7-0bb3-4d79-bf6b-a3bab6d078a3"
      },
      "outputs": [],
      "source": [
        "data2 = pd.DataFrame(launch_dict)"
      ]
    },
    {
      "cell_type": "code",
      "execution_count": 41,
      "id": "a54aebc3-18e5-49bd-974f-95c33b679e0b",
      "metadata": {
        "colab": {
          "base_uri": "https://localhost:8080/"
        },
        "id": "a54aebc3-18e5-49bd-974f-95c33b679e0b",
        "outputId": "edce8a43-2111-4bc8-949a-1b720ad74c12"
      },
      "outputs": [
        {
          "output_type": "stream",
          "name": "stdout",
          "text": [
            "<class 'pandas.core.frame.DataFrame'>\n",
            "RangeIndex: 94 entries, 0 to 93\n",
            "Data columns (total 17 columns):\n",
            " #   Column          Non-Null Count  Dtype  \n",
            "---  ------          --------------  -----  \n",
            " 0   FlightNumber    94 non-null     int64  \n",
            " 1   Date            94 non-null     object \n",
            " 2   BoosterVersion  94 non-null     object \n",
            " 3   PayloadMass     88 non-null     float64\n",
            " 4   Orbit           94 non-null     object \n",
            " 5   LaunchSite      94 non-null     object \n",
            " 6   Outcome         94 non-null     object \n",
            " 7   Flights         94 non-null     int64  \n",
            " 8   GridFins        94 non-null     bool   \n",
            " 9   Reused          94 non-null     bool   \n",
            " 10  Legs            94 non-null     bool   \n",
            " 11  LandingPad      64 non-null     object \n",
            " 12  Block           90 non-null     float64\n",
            " 13  ReusedCount     94 non-null     int64  \n",
            " 14  Serial          94 non-null     object \n",
            " 15  Longitude       94 non-null     float64\n",
            " 16  Latitude        94 non-null     float64\n",
            "dtypes: bool(3), float64(4), int64(3), object(7)\n",
            "memory usage: 10.7+ KB\n"
          ]
        }
      ],
      "source": [
        "data2.info()"
      ]
    },
    {
      "cell_type": "markdown",
      "id": "22d3f4f0-45e2-4bbb-829d-4e9a5dd85d11",
      "metadata": {
        "id": "22d3f4f0-45e2-4bbb-829d-4e9a5dd85d11"
      },
      "source": [
        "### Task 2: Filter the dataframe to only include `Falcon 9` launches\n",
        "\n",
        "Then, we need to create a Pandas data frame from the dictionary launch_dict."
      ]
    },
    {
      "cell_type": "code",
      "execution_count": 42,
      "id": "99792dbc-edd9-47c3-9751-8ff0f78513ce",
      "metadata": {
        "id": "99792dbc-edd9-47c3-9751-8ff0f78513ce"
      },
      "outputs": [],
      "source": [
        "# Hint data['BoosterVersion']!='Falcon 1'"
      ]
    },
    {
      "cell_type": "code",
      "execution_count": 43,
      "id": "2735d7ac-a75e-4916-8ed2-1ad72379fe96",
      "metadata": {
        "id": "2735d7ac-a75e-4916-8ed2-1ad72379fe96"
      },
      "outputs": [],
      "source": [
        "data_falcon9 = data2[data2['BoosterVersion'] == 'Falcon9']"
      ]
    },
    {
      "cell_type": "markdown",
      "id": "50c259cb-56eb-4425-b9f8-544eef7af740",
      "metadata": {
        "id": "50c259cb-56eb-4425-b9f8-544eef7af740"
      },
      "source": [
        "Now that we have removed some values we should reset the FlgihtNumber column"
      ]
    },
    {
      "cell_type": "code",
      "execution_count": 44,
      "id": "ee2d9ef2-993f-47f7-a2b3-7b845257296b",
      "metadata": {
        "colab": {
          "base_uri": "https://localhost:8080/",
          "height": 49
        },
        "id": "ee2d9ef2-993f-47f7-a2b3-7b845257296b",
        "outputId": "6d655c14-ded0-49d8-9784-50c0542a837d"
      },
      "outputs": [
        {
          "output_type": "execute_result",
          "data": {
            "text/plain": [
              "Empty DataFrame\n",
              "Columns: [FlightNumber, Date, BoosterVersion, PayloadMass, Orbit, LaunchSite, Outcome, Flights, GridFins, Reused, Legs, LandingPad, Block, ReusedCount, Serial, Longitude, Latitude]\n",
              "Index: []"
            ],
            "text/html": [
              "\n",
              "  <div id=\"df-d965a405-c525-4772-93b6-019672438ee9\">\n",
              "    <div class=\"colab-df-container\">\n",
              "      <div>\n",
              "<style scoped>\n",
              "    .dataframe tbody tr th:only-of-type {\n",
              "        vertical-align: middle;\n",
              "    }\n",
              "\n",
              "    .dataframe tbody tr th {\n",
              "        vertical-align: top;\n",
              "    }\n",
              "\n",
              "    .dataframe thead th {\n",
              "        text-align: right;\n",
              "    }\n",
              "</style>\n",
              "<table border=\"1\" class=\"dataframe\">\n",
              "  <thead>\n",
              "    <tr style=\"text-align: right;\">\n",
              "      <th></th>\n",
              "      <th>FlightNumber</th>\n",
              "      <th>Date</th>\n",
              "      <th>BoosterVersion</th>\n",
              "      <th>PayloadMass</th>\n",
              "      <th>Orbit</th>\n",
              "      <th>LaunchSite</th>\n",
              "      <th>Outcome</th>\n",
              "      <th>Flights</th>\n",
              "      <th>GridFins</th>\n",
              "      <th>Reused</th>\n",
              "      <th>Legs</th>\n",
              "      <th>LandingPad</th>\n",
              "      <th>Block</th>\n",
              "      <th>ReusedCount</th>\n",
              "      <th>Serial</th>\n",
              "      <th>Longitude</th>\n",
              "      <th>Latitude</th>\n",
              "    </tr>\n",
              "  </thead>\n",
              "  <tbody>\n",
              "  </tbody>\n",
              "</table>\n",
              "</div>\n",
              "      <button class=\"colab-df-convert\" onclick=\"convertToInteractive('df-d965a405-c525-4772-93b6-019672438ee9')\"\n",
              "              title=\"Convert this dataframe to an interactive table.\"\n",
              "              style=\"display:none;\">\n",
              "        \n",
              "  <svg xmlns=\"http://www.w3.org/2000/svg\" height=\"24px\"viewBox=\"0 0 24 24\"\n",
              "       width=\"24px\">\n",
              "    <path d=\"M0 0h24v24H0V0z\" fill=\"none\"/>\n",
              "    <path d=\"M18.56 5.44l.94 2.06.94-2.06 2.06-.94-2.06-.94-.94-2.06-.94 2.06-2.06.94zm-11 1L8.5 8.5l.94-2.06 2.06-.94-2.06-.94L8.5 2.5l-.94 2.06-2.06.94zm10 10l.94 2.06.94-2.06 2.06-.94-2.06-.94-.94-2.06-.94 2.06-2.06.94z\"/><path d=\"M17.41 7.96l-1.37-1.37c-.4-.4-.92-.59-1.43-.59-.52 0-1.04.2-1.43.59L10.3 9.45l-7.72 7.72c-.78.78-.78 2.05 0 2.83L4 21.41c.39.39.9.59 1.41.59.51 0 1.02-.2 1.41-.59l7.78-7.78 2.81-2.81c.8-.78.8-2.07 0-2.86zM5.41 20L4 18.59l7.72-7.72 1.47 1.35L5.41 20z\"/>\n",
              "  </svg>\n",
              "      </button>\n",
              "      \n",
              "  <style>\n",
              "    .colab-df-container {\n",
              "      display:flex;\n",
              "      flex-wrap:wrap;\n",
              "      gap: 12px;\n",
              "    }\n",
              "\n",
              "    .colab-df-convert {\n",
              "      background-color: #E8F0FE;\n",
              "      border: none;\n",
              "      border-radius: 50%;\n",
              "      cursor: pointer;\n",
              "      display: none;\n",
              "      fill: #1967D2;\n",
              "      height: 32px;\n",
              "      padding: 0 0 0 0;\n",
              "      width: 32px;\n",
              "    }\n",
              "\n",
              "    .colab-df-convert:hover {\n",
              "      background-color: #E2EBFA;\n",
              "      box-shadow: 0px 1px 2px rgba(60, 64, 67, 0.3), 0px 1px 3px 1px rgba(60, 64, 67, 0.15);\n",
              "      fill: #174EA6;\n",
              "    }\n",
              "\n",
              "    [theme=dark] .colab-df-convert {\n",
              "      background-color: #3B4455;\n",
              "      fill: #D2E3FC;\n",
              "    }\n",
              "\n",
              "    [theme=dark] .colab-df-convert:hover {\n",
              "      background-color: #434B5C;\n",
              "      box-shadow: 0px 1px 3px 1px rgba(0, 0, 0, 0.15);\n",
              "      filter: drop-shadow(0px 1px 2px rgba(0, 0, 0, 0.3));\n",
              "      fill: #FFFFFF;\n",
              "    }\n",
              "  </style>\n",
              "\n",
              "      <script>\n",
              "        const buttonEl =\n",
              "          document.querySelector('#df-d965a405-c525-4772-93b6-019672438ee9 button.colab-df-convert');\n",
              "        buttonEl.style.display =\n",
              "          google.colab.kernel.accessAllowed ? 'block' : 'none';\n",
              "\n",
              "        async function convertToInteractive(key) {\n",
              "          const element = document.querySelector('#df-d965a405-c525-4772-93b6-019672438ee9');\n",
              "          const dataTable =\n",
              "            await google.colab.kernel.invokeFunction('convertToInteractive',\n",
              "                                                     [key], {});\n",
              "          if (!dataTable) return;\n",
              "\n",
              "          const docLinkHtml = 'Like what you see? Visit the ' +\n",
              "            '<a target=\"_blank\" href=https://colab.research.google.com/notebooks/data_table.ipynb>data table notebook</a>'\n",
              "            + ' to learn more about interactive tables.';\n",
              "          element.innerHTML = '';\n",
              "          dataTable['output_type'] = 'display_data';\n",
              "          await google.colab.output.renderOutput(dataTable, element);\n",
              "          const docLink = document.createElement('div');\n",
              "          docLink.innerHTML = docLinkHtml;\n",
              "          element.appendChild(docLink);\n",
              "        }\n",
              "      </script>\n",
              "    </div>\n",
              "  </div>\n",
              "  "
            ]
          },
          "metadata": {},
          "execution_count": 44
        }
      ],
      "source": [
        "data_falcon9.loc[:,'FlightNumber'] = list(range(1, data_falcon9.shape[0]+1))\n",
        "data_falcon9"
      ]
    },
    {
      "cell_type": "code",
      "execution_count": 45,
      "id": "99e9b930-fda8-4c00-a2b2-05b9c31d2400",
      "metadata": {
        "id": "99e9b930-fda8-4c00-a2b2-05b9c31d2400"
      },
      "outputs": [],
      "source": [
        "data_falcon9.to_csv('data_falcon9_week01.csv' , index=False)"
      ]
    },
    {
      "cell_type": "markdown",
      "id": "2a8441e3-de0b-43ed-88cd-677867fc26a3",
      "metadata": {
        "id": "2a8441e3-de0b-43ed-88cd-677867fc26a3"
      },
      "source": [
        "### Data Wrangling\n",
        "\n",
        "\n",
        "\n",
        "\n",
        "\n",
        "\n",
        "We can see below that some of the rows are missing values in our dataset."
      ]
    },
    {
      "cell_type": "code",
      "execution_count": 46,
      "id": "882b2d2a-eceb-4baf-b1c1-116b0fa2bb80",
      "metadata": {
        "colab": {
          "base_uri": "https://localhost:8080/"
        },
        "id": "882b2d2a-eceb-4baf-b1c1-116b0fa2bb80",
        "outputId": "dd8da401-bc25-4603-96c4-4d5b3a32a5fd"
      },
      "outputs": [
        {
          "output_type": "execute_result",
          "data": {
            "text/plain": [
              "FlightNumber      0.0\n",
              "Date              0.0\n",
              "BoosterVersion    0.0\n",
              "PayloadMass       0.0\n",
              "Orbit             0.0\n",
              "LaunchSite        0.0\n",
              "Outcome           0.0\n",
              "Flights           0.0\n",
              "GridFins          0.0\n",
              "Reused            0.0\n",
              "Legs              0.0\n",
              "LandingPad        0.0\n",
              "Block             0.0\n",
              "ReusedCount       0.0\n",
              "Serial            0.0\n",
              "Longitude         0.0\n",
              "Latitude          0.0\n",
              "dtype: float64"
            ]
          },
          "metadata": {},
          "execution_count": 46
        }
      ],
      "source": [
        "data_falcon9.isnull().sum()"
      ]
    },
    {
      "cell_type": "markdown",
      "id": "473a787c-fa0e-469a-8e41-8094740cd82a",
      "metadata": {
        "id": "473a787c-fa0e-469a-8e41-8094740cd82a"
      },
      "source": [
        "##### Before we can continue we must deal with these missing values. The LandingPad column will retain None values to represent when landing pads were not used.\n",
        "\n",
        "### Task 3: Dealing with Missing Values\n",
        "Calculate below the mean for the PayloadMass using the .mean(). Then use the mean and the .replace() function to replace np.nan values in the data with the mean you calculated."
      ]
    },
    {
      "cell_type": "code",
      "execution_count": 47,
      "id": "8919c215-9e55-4f3d-b888-8356d56a3a8c",
      "metadata": {
        "id": "8919c215-9e55-4f3d-b888-8356d56a3a8c"
      },
      "outputs": [],
      "source": [
        "# Calculate the mean value of PayloadMass column\n",
        "\n",
        "# Replace the np.nan values with its mean value"
      ]
    },
    {
      "cell_type": "code",
      "execution_count": 48,
      "id": "e444ccab-d407-4e74-9902-6702c45f92da",
      "metadata": {
        "id": "e444ccab-d407-4e74-9902-6702c45f92da"
      },
      "outputs": [],
      "source": [
        "# data_falcon9.to_csv('dataset_part_1.csv', index=False)"
      ]
    },
    {
      "cell_type": "markdown",
      "id": "132c8507-5776-4d22-881a-a8292ab4cdf8",
      "metadata": {
        "id": "132c8507-5776-4d22-881a-a8292ab4cdf8"
      },
      "source": [
        "##### You should see the number of missing values of the PayLoadMass change to zero.\n",
        "\n",
        "###### Now we should have no missing values in our dataset except for in LandingPad.\n",
        "\n",
        "We can now export it to a CSV for the next section,but to make the answers consistent, in the next lab we will provide data in a pre-selected date range.\n",
        "\n",
        "\n",
        "\n",
        "\n",
        "\n",
        "\n",
        "\n",
        "#### data_falcon9.to_csv('dataset_part_1.csv', index=False)"
      ]
    },
    {
      "cell_type": "code",
      "execution_count": 48,
      "id": "891b0e85-a065-49f2-9bcf-1272001226d1",
      "metadata": {
        "id": "891b0e85-a065-49f2-9bcf-1272001226d1"
      },
      "outputs": [],
      "source": []
    },
    {
      "cell_type": "code",
      "execution_count": 48,
      "id": "d4263831-6fdb-49f1-b81e-8a9f91882ff4",
      "metadata": {
        "id": "d4263831-6fdb-49f1-b81e-8a9f91882ff4"
      },
      "outputs": [],
      "source": []
    }
  ],
  "metadata": {
    "kernelspec": {
      "display_name": "Python 3 (ipykernel)",
      "language": "python",
      "name": "python3"
    },
    "language_info": {
      "codemirror_mode": {
        "name": "ipython",
        "version": 3
      },
      "file_extension": ".py",
      "mimetype": "text/x-python",
      "name": "python",
      "nbconvert_exporter": "python",
      "pygments_lexer": "ipython3",
      "version": "3.9.13"
    },
    "colab": {
      "provenance": []
    }
  },
  "nbformat": 4,
  "nbformat_minor": 5
}