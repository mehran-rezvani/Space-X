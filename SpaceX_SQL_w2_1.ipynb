{
 "cells": [
  {
   "cell_type": "markdown",
   "id": "a6ef852a-460e-4f0f-aa1a-31e01522e80b",
   "metadata": {},
   "source": [
    "## Introduction\n",
    "\n",
    "Using this Python notebook you will:\n",
    "\n",
    "1.  Understand the Spacex DataSet\n",
    "2.  Load the dataset  into the corresponding table in a Db2 database\n",
    "3.  Execute SQL queries to answer assignment questions"
   ]
  },
  {
   "cell_type": "markdown",
   "id": "6a965568-5ee8-4045-acf8-094d538e5f03",
   "metadata": {},
   "source": [
    "## Overview of the DataSet\n",
    "\n",
    "SpaceX has gained worldwide attention for a series of historic milestones.\n",
    "\n",
    "It is the only private company ever to return a spacecraft from low-earth orbit, which it first accomplished in December 2010.\n",
    "SpaceX advertises Falcon 9 rocket launches on its website with a cost of 62 million dollars wheras other providers cost upward of 165 million dollars each, much of the savings is because Space X can reuse the first stage.\n",
    "\n",
    "Therefore if we can determine if the first stage will land, we can determine the cost of a launch.\n",
    "\n",
    "This information can be used if an alternate company wants to bid against SpaceX for a rocket launch.\n",
    "\n",
    "This dataset includes a record for each payload carried during a SpaceX mission into outer space."
   ]
  },
  {
   "cell_type": "markdown",
   "id": "fa49e1a3-b7ef-4dea-9592-ee95d7f5df32",
   "metadata": {},
   "source": [
    "### Download the datasets\n",
    "\n",
    "This assignment requires you to load the spacex dataset.\n",
    "\n",
    "In many cases the dataset to be analyzed is available as a .CSV (comma separated values) file, perhaps on the internet. Click on the link below to download and save the dataset (.CSV file):\n",
    "\n",
    "<a href=\"https://cf-courses-data.s3.us.cloud-object-storage.appdomain.cloud/IBM-DS0321EN-SkillsNetwork/labs/module_2/data/Spacex.csv?utm_medium=Exinfluencer&utm_source=Exinfluencer&utm_content=000026UJ&utm_term=10006555&utm_id=NA-SkillsNetwork-Channel-SkillsNetworkCoursesIBMDS0321ENSkillsNetwork26802033-2022-01-01\" target=\"_blank\">Spacex DataSet</a>"
   ]
  },
  {
   "cell_type": "code",
   "execution_count": 1,
   "id": "f77c3f68-c13d-4bf3-9800-619cde95c770",
   "metadata": {},
   "outputs": [
    {
     "name": "stdout",
     "output_type": "stream",
     "text": [
      "Requirement already satisfied: sqlalchemy==1.3.9 in c:\\users\\nasim\\anaconda3\\lib\\site-packages (1.3.9)\n"
     ]
    }
   ],
   "source": [
    "!pip install sqlalchemy==1.3.9"
   ]
  },
  {
   "cell_type": "markdown",
   "id": "e3828fc3-dfc8-4461-9ff7-d6c89bf8a767",
   "metadata": {},
   "source": [
    "# Connect to the database\n",
    "Let us first load the SQL extension and establish a connection with the database"
   ]
  },
  {
   "cell_type": "code",
   "execution_count": 52,
   "id": "74b19b34-ca53-4da1-b5a6-9e195a395926",
   "metadata": {},
   "outputs": [],
   "source": [
    "#%load_ext sql"
   ]
  },
  {
   "cell_type": "code",
   "execution_count": 3,
   "id": "3c5598f2-8b7b-4126-8483-6cd54d4dbdcc",
   "metadata": {},
   "outputs": [],
   "source": [
    "import csv, sqlite3\n",
    "\n",
    "con = sqlite3.connect(\"my_data1.db\")\n",
    "cur = con.cursor()"
   ]
  },
  {
   "cell_type": "code",
   "execution_count": 4,
   "id": "acdff38b-ef2f-4048-a792-4bc3fba425eb",
   "metadata": {},
   "outputs": [],
   "source": [
    "!pip install -q pandas==1.1.5"
   ]
  },
  {
   "cell_type": "code",
   "execution_count": 5,
   "id": "6306fee8-4358-480d-b76d-d6258c50195e",
   "metadata": {},
   "outputs": [
    {
     "name": "stderr",
     "output_type": "stream",
     "text": [
      "UsageError: Line magic function `%sql` not found.\n"
     ]
    }
   ],
   "source": [
    "%sql sqlite:///my_data1.db"
   ]
  },
  {
   "cell_type": "code",
   "execution_count": null,
   "id": "725fd853-3e34-4cf3-8408-0e00889d8e04",
   "metadata": {},
   "outputs": [],
   "source": [
    "import pandas as pd\n",
    "df = pd.read_csv(\"https://cf-courses-data.s3.us.cloud-object-storage.appdomain.cloud/IBM-DS0321EN-SkillsNetwork/labs/module_2/data/Spacex.csv\")\n",
    "df.to_sql(\"SPACEXTBL\", con, if_exists='replace', index=False,method=\"multi\")"
   ]
  },
  {
   "cell_type": "markdown",
   "id": "b60a0879-317a-4d4f-8578-066632cfea85",
   "metadata": {},
   "source": [
    "## Tasks\n",
    "\n",
    "Now write and execute SQL queries to solve the assignment tasks.\n",
    "\n",
    "**Note: If the column names are in mixed case enclose it in double quotes\n",
    "For Example \"Landing_Outcome\"**\n",
    "\n",
    "### Task 1\n",
    "\n",
    "##### Display the names of the unique launch sites  in the space mission"
   ]
  },
  {
   "cell_type": "code",
   "execution_count": 7,
   "id": "9b11a961-d894-426b-9267-6be6dcb33465",
   "metadata": {},
   "outputs": [
    {
     "data": {
      "text/plain": [
       "{'CCAFS LC-40', 'CCAFS SLC-40', 'KSC LC-39A', 'VAFB SLC-4E'}"
      ]
     },
     "execution_count": 7,
     "metadata": {},
     "output_type": "execute_result"
    }
   ],
   "source": [
    "set(df['Launch_Site'])"
   ]
  },
  {
   "cell_type": "markdown",
   "id": "b2d3750d-440a-40d1-9f95-f4bd6994c847",
   "metadata": {},
   "source": [
    "### Task 2\n",
    "\n",
    "##### Display 5 records where launch sites begin with the string 'CCA'\n"
   ]
  },
  {
   "cell_type": "code",
   "execution_count": 8,
   "id": "8629e1bf-ed6a-46d9-89a6-a48cee329c43",
   "metadata": {},
   "outputs": [],
   "source": [
    "df_CCA= df[df['Launch_Site']=='CCAFS LC-40']"
   ]
  },
  {
   "cell_type": "code",
   "execution_count": 9,
   "id": "1d90b8e8-26fc-462b-b994-89549512be16",
   "metadata": {},
   "outputs": [
    {
     "data": {
      "text/html": [
       "<div>\n",
       "<style scoped>\n",
       "    .dataframe tbody tr th:only-of-type {\n",
       "        vertical-align: middle;\n",
       "    }\n",
       "\n",
       "    .dataframe tbody tr th {\n",
       "        vertical-align: top;\n",
       "    }\n",
       "\n",
       "    .dataframe thead th {\n",
       "        text-align: right;\n",
       "    }\n",
       "</style>\n",
       "<table border=\"1\" class=\"dataframe\">\n",
       "  <thead>\n",
       "    <tr style=\"text-align: right;\">\n",
       "      <th></th>\n",
       "      <th>Date</th>\n",
       "      <th>Time (UTC)</th>\n",
       "      <th>Booster_Version</th>\n",
       "      <th>Launch_Site</th>\n",
       "      <th>Payload</th>\n",
       "      <th>PAYLOAD_MASS__KG_</th>\n",
       "      <th>Orbit</th>\n",
       "      <th>Customer</th>\n",
       "      <th>Mission_Outcome</th>\n",
       "      <th>Landing _Outcome</th>\n",
       "    </tr>\n",
       "  </thead>\n",
       "  <tbody>\n",
       "    <tr>\n",
       "      <th>0</th>\n",
       "      <td>04-06-2010</td>\n",
       "      <td>18:45:00</td>\n",
       "      <td>F9 v1.0  B0003</td>\n",
       "      <td>CCAFS LC-40</td>\n",
       "      <td>Dragon Spacecraft Qualification Unit</td>\n",
       "      <td>0</td>\n",
       "      <td>LEO</td>\n",
       "      <td>SpaceX</td>\n",
       "      <td>Success</td>\n",
       "      <td>Failure (parachute)</td>\n",
       "    </tr>\n",
       "    <tr>\n",
       "      <th>1</th>\n",
       "      <td>08-12-2010</td>\n",
       "      <td>15:43:00</td>\n",
       "      <td>F9 v1.0  B0004</td>\n",
       "      <td>CCAFS LC-40</td>\n",
       "      <td>Dragon demo flight C1, two CubeSats, barrel of...</td>\n",
       "      <td>0</td>\n",
       "      <td>LEO (ISS)</td>\n",
       "      <td>NASA (COTS) NRO</td>\n",
       "      <td>Success</td>\n",
       "      <td>Failure (parachute)</td>\n",
       "    </tr>\n",
       "    <tr>\n",
       "      <th>2</th>\n",
       "      <td>22-05-2012</td>\n",
       "      <td>07:44:00</td>\n",
       "      <td>F9 v1.0  B0005</td>\n",
       "      <td>CCAFS LC-40</td>\n",
       "      <td>Dragon demo flight C2</td>\n",
       "      <td>525</td>\n",
       "      <td>LEO (ISS)</td>\n",
       "      <td>NASA (COTS)</td>\n",
       "      <td>Success</td>\n",
       "      <td>No attempt</td>\n",
       "    </tr>\n",
       "    <tr>\n",
       "      <th>3</th>\n",
       "      <td>08-10-2012</td>\n",
       "      <td>00:35:00</td>\n",
       "      <td>F9 v1.0  B0006</td>\n",
       "      <td>CCAFS LC-40</td>\n",
       "      <td>SpaceX CRS-1</td>\n",
       "      <td>500</td>\n",
       "      <td>LEO (ISS)</td>\n",
       "      <td>NASA (CRS)</td>\n",
       "      <td>Success</td>\n",
       "      <td>No attempt</td>\n",
       "    </tr>\n",
       "    <tr>\n",
       "      <th>4</th>\n",
       "      <td>01-03-2013</td>\n",
       "      <td>15:10:00</td>\n",
       "      <td>F9 v1.0  B0007</td>\n",
       "      <td>CCAFS LC-40</td>\n",
       "      <td>SpaceX CRS-2</td>\n",
       "      <td>677</td>\n",
       "      <td>LEO (ISS)</td>\n",
       "      <td>NASA (CRS)</td>\n",
       "      <td>Success</td>\n",
       "      <td>No attempt</td>\n",
       "    </tr>\n",
       "  </tbody>\n",
       "</table>\n",
       "</div>"
      ],
      "text/plain": [
       "         Date Time (UTC) Booster_Version  Launch_Site  \\\n",
       "0  04-06-2010   18:45:00  F9 v1.0  B0003  CCAFS LC-40   \n",
       "1  08-12-2010   15:43:00  F9 v1.0  B0004  CCAFS LC-40   \n",
       "2  22-05-2012   07:44:00  F9 v1.0  B0005  CCAFS LC-40   \n",
       "3  08-10-2012   00:35:00  F9 v1.0  B0006  CCAFS LC-40   \n",
       "4  01-03-2013   15:10:00  F9 v1.0  B0007  CCAFS LC-40   \n",
       "\n",
       "                                             Payload  PAYLOAD_MASS__KG_  \\\n",
       "0               Dragon Spacecraft Qualification Unit                  0   \n",
       "1  Dragon demo flight C1, two CubeSats, barrel of...                  0   \n",
       "2                              Dragon demo flight C2                525   \n",
       "3                                       SpaceX CRS-1                500   \n",
       "4                                       SpaceX CRS-2                677   \n",
       "\n",
       "       Orbit         Customer Mission_Outcome     Landing _Outcome  \n",
       "0        LEO           SpaceX         Success  Failure (parachute)  \n",
       "1  LEO (ISS)  NASA (COTS) NRO         Success  Failure (parachute)  \n",
       "2  LEO (ISS)      NASA (COTS)         Success           No attempt  \n",
       "3  LEO (ISS)       NASA (CRS)         Success           No attempt  \n",
       "4  LEO (ISS)       NASA (CRS)         Success           No attempt  "
      ]
     },
     "execution_count": 9,
     "metadata": {},
     "output_type": "execute_result"
    }
   ],
   "source": [
    "df_CCA.head()"
   ]
  },
  {
   "cell_type": "markdown",
   "id": "fa6c1ddd-3006-4fef-919b-9219746817ac",
   "metadata": {},
   "source": [
    "### Task 3\n",
    "\n",
    "##### Display the total payload mass carried by boosters launched by NASA (CRS)"
   ]
  },
  {
   "cell_type": "code",
   "execution_count": 10,
   "id": "4b60b675-5bf1-461e-8295-f43a2f415740",
   "metadata": {},
   "outputs": [
    {
     "name": "stdout",
     "output_type": "stream",
     "text": [
      "<class 'pandas.core.frame.DataFrame'>\n",
      "RangeIndex: 101 entries, 0 to 100\n",
      "Data columns (total 10 columns):\n",
      " #   Column             Non-Null Count  Dtype \n",
      "---  ------             --------------  ----- \n",
      " 0   Date               101 non-null    object\n",
      " 1   Time (UTC)         101 non-null    object\n",
      " 2   Booster_Version    101 non-null    object\n",
      " 3   Launch_Site        101 non-null    object\n",
      " 4   Payload            101 non-null    object\n",
      " 5   PAYLOAD_MASS__KG_  101 non-null    int64 \n",
      " 6   Orbit              101 non-null    object\n",
      " 7   Customer           101 non-null    object\n",
      " 8   Mission_Outcome    101 non-null    object\n",
      " 9   Landing _Outcome   101 non-null    object\n",
      "dtypes: int64(1), object(9)\n",
      "memory usage: 8.0+ KB\n"
     ]
    }
   ],
   "source": [
    "df.info()"
   ]
  },
  {
   "cell_type": "code",
   "execution_count": 11,
   "id": "e276c012-e378-4451-9954-209a6f171d85",
   "metadata": {},
   "outputs": [
    {
     "data": {
      "text/html": [
       "<div>\n",
       "<style scoped>\n",
       "    .dataframe tbody tr th:only-of-type {\n",
       "        vertical-align: middle;\n",
       "    }\n",
       "\n",
       "    .dataframe tbody tr th {\n",
       "        vertical-align: top;\n",
       "    }\n",
       "\n",
       "    .dataframe thead th {\n",
       "        text-align: right;\n",
       "    }\n",
       "</style>\n",
       "<table border=\"1\" class=\"dataframe\">\n",
       "  <thead>\n",
       "    <tr style=\"text-align: right;\">\n",
       "      <th></th>\n",
       "      <th>PAYLOAD_MASS__KG_</th>\n",
       "      <th>Booster_Version</th>\n",
       "    </tr>\n",
       "  </thead>\n",
       "  <tbody>\n",
       "    <tr>\n",
       "      <th>0</th>\n",
       "      <td>0</td>\n",
       "      <td>F9 v1.0  B0003</td>\n",
       "    </tr>\n",
       "    <tr>\n",
       "      <th>1</th>\n",
       "      <td>0</td>\n",
       "      <td>F9 v1.0  B0004</td>\n",
       "    </tr>\n",
       "    <tr>\n",
       "      <th>2</th>\n",
       "      <td>525</td>\n",
       "      <td>F9 v1.0  B0005</td>\n",
       "    </tr>\n",
       "    <tr>\n",
       "      <th>3</th>\n",
       "      <td>500</td>\n",
       "      <td>F9 v1.0  B0006</td>\n",
       "    </tr>\n",
       "    <tr>\n",
       "      <th>4</th>\n",
       "      <td>677</td>\n",
       "      <td>F9 v1.0  B0007</td>\n",
       "    </tr>\n",
       "    <tr>\n",
       "      <th>...</th>\n",
       "      <td>...</td>\n",
       "      <td>...</td>\n",
       "    </tr>\n",
       "    <tr>\n",
       "      <th>96</th>\n",
       "      <td>4311</td>\n",
       "      <td>F9 B5B1062.1</td>\n",
       "    </tr>\n",
       "    <tr>\n",
       "      <th>97</th>\n",
       "      <td>12500</td>\n",
       "      <td>F9 B5B1061.1</td>\n",
       "    </tr>\n",
       "    <tr>\n",
       "      <th>98</th>\n",
       "      <td>1192</td>\n",
       "      <td>F9 B5B1063.1</td>\n",
       "    </tr>\n",
       "    <tr>\n",
       "      <th>99</th>\n",
       "      <td>15600</td>\n",
       "      <td>F9 B5 B1049.7</td>\n",
       "    </tr>\n",
       "    <tr>\n",
       "      <th>100</th>\n",
       "      <td>2972</td>\n",
       "      <td>F9 B5 B1058.4</td>\n",
       "    </tr>\n",
       "  </tbody>\n",
       "</table>\n",
       "<p>101 rows × 2 columns</p>\n",
       "</div>"
      ],
      "text/plain": [
       "     PAYLOAD_MASS__KG_ Booster_Version\n",
       "0                    0  F9 v1.0  B0003\n",
       "1                    0  F9 v1.0  B0004\n",
       "2                  525  F9 v1.0  B0005\n",
       "3                  500  F9 v1.0  B0006\n",
       "4                  677  F9 v1.0  B0007\n",
       "..                 ...             ...\n",
       "96                4311    F9 B5B1062.1\n",
       "97               12500   F9 B5B1061.1 \n",
       "98                1192    F9 B5B1063.1\n",
       "99               15600  F9 B5 B1049.7 \n",
       "100               2972  F9 B5 B1058.4 \n",
       "\n",
       "[101 rows x 2 columns]"
      ]
     },
     "execution_count": 11,
     "metadata": {},
     "output_type": "execute_result"
    }
   ],
   "source": [
    "df_Mass=df[['PAYLOAD_MASS__KG_', 'Booster_Version']]\n",
    "df_Mass"
   ]
  },
  {
   "cell_type": "markdown",
   "id": "e8cc6b9a-c53f-462a-9639-61f4287fd784",
   "metadata": {},
   "source": [
    "### Task 4\n",
    "\n",
    "##### Display average payload mass carried by booster version F9 v1.1"
   ]
  },
  {
   "cell_type": "code",
   "execution_count": 12,
   "id": "4e857744-4808-41d7-a2d1-ebb267d1a988",
   "metadata": {},
   "outputs": [
    {
     "name": "stdout",
     "output_type": "stream",
     "text": [
      "{'F9 B5 B1049.3', 'F9 v1.1 B1011', 'F9 B5 B1058.2 ', 'F9 B5 B1048.3', 'F9 B5B1049.1', 'F9 FT B1024', 'F9 B5 B1051.6', 'F9 B5 B1048.5', 'F9 B5 B1049.5', 'F9 B5 B1059.2', 'F9 FT B1019', 'F9 v1.0  B0006', 'F9 FT B1032.1', 'F9 v1.1  B1003', 'F9 FT B1037', 'F9 B5 B1048.4', 'F9 v1.1 B1016', 'F9 B4 B1042.1', 'F9 B5 B1049.7 ', 'F9 B4 B1044', 'F9 B5 B1056.2 ', 'F9 FT  B1036.2', 'F9 B5 B1051.3', 'F9 B5 B1056.4', 'F9 FT B1021.1', 'F9 FT B1026', 'F9 B5 B1051.4', 'F9 B5  B1046.1', 'F9 B5 B1046.2', 'F9 B5 B1049.6', 'F9 B5B1048.1', 'F9 B4 B1040.1', 'F9 FT  B1029.2', 'F9 B5 B1048.2', 'F9 B5 B1058.4 ', 'F9 FT B1036.1', 'F9 B5B1058.1 ', 'F9 FT  B1038.2', 'F9 FT B1025.1', 'F9 B5 B1047.2', 'F9 v1.0  B0007', 'F9 FT  B1031.2', 'F9 v1.1 B1013', 'F9 B4  B1039.2', 'F9 B5 B1049.4', 'F9 FT B1031.1', 'F9 B5 B1046.3', 'F9 B4  B1043.2', 'F9 B5B1051.1', 'F9 v1.1 B1017', 'F9 B5 B1058.3 ', 'F9 B5 B1047.3 ', 'F9 B4 B1039.1', 'F9 FT B1023.1', 'F9 B4 B1045.1', 'F9 B5 B1051.2 ', 'F9 B5B1056.1 ', 'F9 FT B1029.1', 'F9 B5B1050', 'F9 B4 B1045.2', 'F9 B5 B1060.3', 'F9 v1.0  B0004', 'F9 FT B1022', 'F9 FT B1034', 'F9 v1.1', 'F9 FT  B1035.2', 'F9 B5 B1056.3 ', 'F9 FT B1030', 'F9 v1.1 B1015', 'F9 FT B1038.1', 'F9 v1.1 B1014', 'F9 B5 B1051.5', 'F9 v1.0  B0005', 'F9 B5 B1059.3', 'F9 B5B1047.1', 'F9 B5 B1049.2', 'F9 v1.1 B1010', 'F9 B4  B1041.2', 'F9 FT  B1021.2', 'F9 B4 B1043.1', 'F9 FT B1035.1', 'F9 B5B1062.1', 'F9 B5 B1046.4', 'F9 B5B1061.1 ', 'F9 v1.0  B0003', 'F9 B4  B1040.2', 'F9 B5B1060.1', 'F9 B5B1059.1', 'F9 FT  B1032.2', 'F9 B5B1063.1', 'F9 B4 B1041.1', 'F9 v1.1 B1012', 'F9 B5B1054', 'F9 B5 B1059.4', 'F9 FT B1020', 'F9 B5 B1060.2 ', 'F9 v1.1 B1018'}\n"
     ]
    }
   ],
   "source": [
    "print(set(df_Mass['Booster_Version']))"
   ]
  },
  {
   "cell_type": "code",
   "execution_count": 13,
   "id": "f9c7e20e-607c-4e85-b953-44ffcfeafd8e",
   "metadata": {},
   "outputs": [],
   "source": [
    "df_F9= df_Mass[df_Mass['Booster_Version'].str.contains(\"F9 v1.1\")]"
   ]
  },
  {
   "cell_type": "code",
   "execution_count": 14,
   "id": "bd52910d-05bc-4c9f-9f59-66e40a5e57ae",
   "metadata": {},
   "outputs": [
    {
     "data": {
      "text/plain": [
       "2534.6666666666665"
      ]
     },
     "execution_count": 14,
     "metadata": {},
     "output_type": "execute_result"
    }
   ],
   "source": [
    "df_F9['PAYLOAD_MASS__KG_'].mean()"
   ]
  },
  {
   "cell_type": "code",
   "execution_count": 15,
   "id": "47de24d2-6836-40ce-8523-e1c99d38c3e3",
   "metadata": {},
   "outputs": [
    {
     "data": {
      "text/html": [
       "<div>\n",
       "<style scoped>\n",
       "    .dataframe tbody tr th:only-of-type {\n",
       "        vertical-align: middle;\n",
       "    }\n",
       "\n",
       "    .dataframe tbody tr th {\n",
       "        vertical-align: top;\n",
       "    }\n",
       "\n",
       "    .dataframe thead th {\n",
       "        text-align: right;\n",
       "    }\n",
       "</style>\n",
       "<table border=\"1\" class=\"dataframe\">\n",
       "  <thead>\n",
       "    <tr style=\"text-align: right;\">\n",
       "      <th></th>\n",
       "      <th>PAYLOAD_MASS__KG_</th>\n",
       "      <th>Booster_Version</th>\n",
       "    </tr>\n",
       "  </thead>\n",
       "  <tbody>\n",
       "    <tr>\n",
       "      <th>5</th>\n",
       "      <td>500</td>\n",
       "      <td>F9 v1.1  B1003</td>\n",
       "    </tr>\n",
       "    <tr>\n",
       "      <th>6</th>\n",
       "      <td>3170</td>\n",
       "      <td>F9 v1.1</td>\n",
       "    </tr>\n",
       "    <tr>\n",
       "      <th>7</th>\n",
       "      <td>3325</td>\n",
       "      <td>F9 v1.1</td>\n",
       "    </tr>\n",
       "    <tr>\n",
       "      <th>8</th>\n",
       "      <td>2296</td>\n",
       "      <td>F9 v1.1</td>\n",
       "    </tr>\n",
       "    <tr>\n",
       "      <th>9</th>\n",
       "      <td>1316</td>\n",
       "      <td>F9 v1.1</td>\n",
       "    </tr>\n",
       "    <tr>\n",
       "      <th>10</th>\n",
       "      <td>4535</td>\n",
       "      <td>F9 v1.1</td>\n",
       "    </tr>\n",
       "    <tr>\n",
       "      <th>11</th>\n",
       "      <td>4428</td>\n",
       "      <td>F9 v1.1 B1011</td>\n",
       "    </tr>\n",
       "    <tr>\n",
       "      <th>12</th>\n",
       "      <td>2216</td>\n",
       "      <td>F9 v1.1 B1010</td>\n",
       "    </tr>\n",
       "    <tr>\n",
       "      <th>13</th>\n",
       "      <td>2395</td>\n",
       "      <td>F9 v1.1 B1012</td>\n",
       "    </tr>\n",
       "    <tr>\n",
       "      <th>14</th>\n",
       "      <td>570</td>\n",
       "      <td>F9 v1.1 B1013</td>\n",
       "    </tr>\n",
       "    <tr>\n",
       "      <th>15</th>\n",
       "      <td>4159</td>\n",
       "      <td>F9 v1.1 B1014</td>\n",
       "    </tr>\n",
       "    <tr>\n",
       "      <th>16</th>\n",
       "      <td>1898</td>\n",
       "      <td>F9 v1.1 B1015</td>\n",
       "    </tr>\n",
       "    <tr>\n",
       "      <th>17</th>\n",
       "      <td>4707</td>\n",
       "      <td>F9 v1.1 B1016</td>\n",
       "    </tr>\n",
       "    <tr>\n",
       "      <th>18</th>\n",
       "      <td>1952</td>\n",
       "      <td>F9 v1.1 B1018</td>\n",
       "    </tr>\n",
       "    <tr>\n",
       "      <th>20</th>\n",
       "      <td>553</td>\n",
       "      <td>F9 v1.1 B1017</td>\n",
       "    </tr>\n",
       "  </tbody>\n",
       "</table>\n",
       "</div>"
      ],
      "text/plain": [
       "    PAYLOAD_MASS__KG_ Booster_Version\n",
       "5                 500  F9 v1.1  B1003\n",
       "6                3170         F9 v1.1\n",
       "7                3325         F9 v1.1\n",
       "8                2296         F9 v1.1\n",
       "9                1316         F9 v1.1\n",
       "10               4535         F9 v1.1\n",
       "11               4428   F9 v1.1 B1011\n",
       "12               2216   F9 v1.1 B1010\n",
       "13               2395   F9 v1.1 B1012\n",
       "14                570   F9 v1.1 B1013\n",
       "15               4159   F9 v1.1 B1014\n",
       "16               1898   F9 v1.1 B1015\n",
       "17               4707   F9 v1.1 B1016\n",
       "18               1952   F9 v1.1 B1018\n",
       "20                553   F9 v1.1 B1017"
      ]
     },
     "execution_count": 15,
     "metadata": {},
     "output_type": "execute_result"
    }
   ],
   "source": [
    "df_F9"
   ]
  },
  {
   "cell_type": "markdown",
   "id": "0ee1916a-5c88-48b9-bbcc-bee3aedba563",
   "metadata": {},
   "source": [
    "### Task 5\n",
    "\n",
    "##### List the date when the first succesful landing outcome in ground pad was acheived.\n",
    "\n",
    "*Hint:Use min function*"
   ]
  },
  {
   "cell_type": "code",
   "execution_count": 16,
   "id": "f09f7ea0-e43b-4e39-8934-93f25673cf5f",
   "metadata": {},
   "outputs": [],
   "source": [
    "df_Date=df[['Date', 'Landing _Outcome']]"
   ]
  },
  {
   "cell_type": "code",
   "execution_count": 17,
   "id": "33107f6d-d493-455f-b6ac-abcec8a39227",
   "metadata": {},
   "outputs": [
    {
     "data": {
      "text/html": [
       "<div>\n",
       "<style scoped>\n",
       "    .dataframe tbody tr th:only-of-type {\n",
       "        vertical-align: middle;\n",
       "    }\n",
       "\n",
       "    .dataframe tbody tr th {\n",
       "        vertical-align: top;\n",
       "    }\n",
       "\n",
       "    .dataframe thead th {\n",
       "        text-align: right;\n",
       "    }\n",
       "</style>\n",
       "<table border=\"1\" class=\"dataframe\">\n",
       "  <thead>\n",
       "    <tr style=\"text-align: right;\">\n",
       "      <th></th>\n",
       "      <th>Date</th>\n",
       "      <th>Landing _Outcome</th>\n",
       "    </tr>\n",
       "  </thead>\n",
       "  <tbody>\n",
       "    <tr>\n",
       "      <th>0</th>\n",
       "      <td>04-06-2010</td>\n",
       "      <td>Failure (parachute)</td>\n",
       "    </tr>\n",
       "    <tr>\n",
       "      <th>1</th>\n",
       "      <td>08-12-2010</td>\n",
       "      <td>Failure (parachute)</td>\n",
       "    </tr>\n",
       "    <tr>\n",
       "      <th>2</th>\n",
       "      <td>22-05-2012</td>\n",
       "      <td>No attempt</td>\n",
       "    </tr>\n",
       "    <tr>\n",
       "      <th>3</th>\n",
       "      <td>08-10-2012</td>\n",
       "      <td>No attempt</td>\n",
       "    </tr>\n",
       "    <tr>\n",
       "      <th>4</th>\n",
       "      <td>01-03-2013</td>\n",
       "      <td>No attempt</td>\n",
       "    </tr>\n",
       "    <tr>\n",
       "      <th>...</th>\n",
       "      <td>...</td>\n",
       "      <td>...</td>\n",
       "    </tr>\n",
       "    <tr>\n",
       "      <th>96</th>\n",
       "      <td>05-11-2020</td>\n",
       "      <td>Success</td>\n",
       "    </tr>\n",
       "    <tr>\n",
       "      <th>97</th>\n",
       "      <td>16-11-2020</td>\n",
       "      <td>Success</td>\n",
       "    </tr>\n",
       "    <tr>\n",
       "      <th>98</th>\n",
       "      <td>21-11-2020</td>\n",
       "      <td>Success</td>\n",
       "    </tr>\n",
       "    <tr>\n",
       "      <th>99</th>\n",
       "      <td>25-11-2020</td>\n",
       "      <td>Success</td>\n",
       "    </tr>\n",
       "    <tr>\n",
       "      <th>100</th>\n",
       "      <td>06-12-2020</td>\n",
       "      <td>Success</td>\n",
       "    </tr>\n",
       "  </tbody>\n",
       "</table>\n",
       "<p>101 rows × 2 columns</p>\n",
       "</div>"
      ],
      "text/plain": [
       "           Date     Landing _Outcome\n",
       "0    04-06-2010  Failure (parachute)\n",
       "1    08-12-2010  Failure (parachute)\n",
       "2    22-05-2012           No attempt\n",
       "3    08-10-2012           No attempt\n",
       "4    01-03-2013           No attempt\n",
       "..          ...                  ...\n",
       "96   05-11-2020              Success\n",
       "97   16-11-2020              Success\n",
       "98   21-11-2020              Success\n",
       "99   25-11-2020              Success\n",
       "100  06-12-2020              Success\n",
       "\n",
       "[101 rows x 2 columns]"
      ]
     },
     "execution_count": 17,
     "metadata": {},
     "output_type": "execute_result"
    }
   ],
   "source": [
    "df_Date"
   ]
  },
  {
   "cell_type": "code",
   "execution_count": 19,
   "id": "c080f385-7654-46bc-8965-943f856cbc20",
   "metadata": {},
   "outputs": [
    {
     "data": {
      "text/plain": [
       "'01-03-2013'"
      ]
     },
     "execution_count": 19,
     "metadata": {},
     "output_type": "execute_result"
    }
   ],
   "source": [
    "df_Date['Date'].min()"
   ]
  },
  {
   "cell_type": "code",
   "execution_count": 20,
   "id": "80c98ea1-b5f9-4c90-9b84-19dba5d55698",
   "metadata": {},
   "outputs": [],
   "source": [
    "df_success_land = df_Date[df_Date['Landing _Outcome']=='Success']"
   ]
  },
  {
   "cell_type": "code",
   "execution_count": null,
   "id": "9ecbc726-19e5-48d1-9927-495748c6b916",
   "metadata": {},
   "outputs": [],
   "source": [
    "df_success_land[\"Date\"] = df_success_land[\"Date\"].astype('datetime64[ns]')"
   ]
  },
  {
   "cell_type": "code",
   "execution_count": 22,
   "id": "9144dd31-7082-468a-ba7d-55cb40ec4f77",
   "metadata": {},
   "outputs": [],
   "source": [
    "df_date = df_success_land.sort_values(by='Date')"
   ]
  },
  {
   "cell_type": "code",
   "execution_count": 23,
   "id": "84e40eff-fcec-4184-abee-b0688d77deae",
   "metadata": {},
   "outputs": [
    {
     "data": {
      "text/plain": [
       "Timestamp('2018-03-12 00:00:00')"
      ]
     },
     "execution_count": 23,
     "metadata": {},
     "output_type": "execute_result"
    }
   ],
   "source": [
    "df_date['Date'].min()"
   ]
  },
  {
   "cell_type": "markdown",
   "id": "0e3b9787-9576-4843-b8a9-a55575f5d06f",
   "metadata": {},
   "source": [
    "### Task 6\n",
    "\n",
    "##### List the names of the boosters which have success in drone ship and have payload mass greater than 4000 but less than 6000"
   ]
  },
  {
   "cell_type": "code",
   "execution_count": 24,
   "id": "95dc526a-a06f-473d-b241-ce77939b8ba4",
   "metadata": {},
   "outputs": [
    {
     "data": {
      "text/plain": [
       "{'Controlled (ocean)',\n",
       " 'Failure',\n",
       " 'Failure (drone ship)',\n",
       " 'Failure (parachute)',\n",
       " 'No attempt',\n",
       " 'No attempt ',\n",
       " 'Precluded (drone ship)',\n",
       " 'Success',\n",
       " 'Success (drone ship)',\n",
       " 'Success (ground pad)',\n",
       " 'Uncontrolled (ocean)'}"
      ]
     },
     "execution_count": 24,
     "metadata": {},
     "output_type": "execute_result"
    }
   ],
   "source": [
    "set(df['Landing _Outcome'])"
   ]
  },
  {
   "cell_type": "code",
   "execution_count": 25,
   "id": "1f1a1bd1-29ab-4be5-ac28-2176850d7624",
   "metadata": {},
   "outputs": [
    {
     "data": {
      "text/html": [
       "<div>\n",
       "<style scoped>\n",
       "    .dataframe tbody tr th:only-of-type {\n",
       "        vertical-align: middle;\n",
       "    }\n",
       "\n",
       "    .dataframe tbody tr th {\n",
       "        vertical-align: top;\n",
       "    }\n",
       "\n",
       "    .dataframe thead th {\n",
       "        text-align: right;\n",
       "    }\n",
       "</style>\n",
       "<table border=\"1\" class=\"dataframe\">\n",
       "  <thead>\n",
       "    <tr style=\"text-align: right;\">\n",
       "      <th></th>\n",
       "      <th>Landing _Outcome</th>\n",
       "      <th>Booster_Version</th>\n",
       "      <th>PAYLOAD_MASS__KG_</th>\n",
       "    </tr>\n",
       "  </thead>\n",
       "  <tbody>\n",
       "    <tr>\n",
       "      <th>0</th>\n",
       "      <td>Failure (parachute)</td>\n",
       "      <td>F9 v1.0  B0003</td>\n",
       "      <td>0</td>\n",
       "    </tr>\n",
       "    <tr>\n",
       "      <th>1</th>\n",
       "      <td>Failure (parachute)</td>\n",
       "      <td>F9 v1.0  B0004</td>\n",
       "      <td>0</td>\n",
       "    </tr>\n",
       "    <tr>\n",
       "      <th>2</th>\n",
       "      <td>No attempt</td>\n",
       "      <td>F9 v1.0  B0005</td>\n",
       "      <td>525</td>\n",
       "    </tr>\n",
       "    <tr>\n",
       "      <th>3</th>\n",
       "      <td>No attempt</td>\n",
       "      <td>F9 v1.0  B0006</td>\n",
       "      <td>500</td>\n",
       "    </tr>\n",
       "    <tr>\n",
       "      <th>4</th>\n",
       "      <td>No attempt</td>\n",
       "      <td>F9 v1.0  B0007</td>\n",
       "      <td>677</td>\n",
       "    </tr>\n",
       "    <tr>\n",
       "      <th>...</th>\n",
       "      <td>...</td>\n",
       "      <td>...</td>\n",
       "      <td>...</td>\n",
       "    </tr>\n",
       "    <tr>\n",
       "      <th>96</th>\n",
       "      <td>Success</td>\n",
       "      <td>F9 B5B1062.1</td>\n",
       "      <td>4311</td>\n",
       "    </tr>\n",
       "    <tr>\n",
       "      <th>97</th>\n",
       "      <td>Success</td>\n",
       "      <td>F9 B5B1061.1</td>\n",
       "      <td>12500</td>\n",
       "    </tr>\n",
       "    <tr>\n",
       "      <th>98</th>\n",
       "      <td>Success</td>\n",
       "      <td>F9 B5B1063.1</td>\n",
       "      <td>1192</td>\n",
       "    </tr>\n",
       "    <tr>\n",
       "      <th>99</th>\n",
       "      <td>Success</td>\n",
       "      <td>F9 B5 B1049.7</td>\n",
       "      <td>15600</td>\n",
       "    </tr>\n",
       "    <tr>\n",
       "      <th>100</th>\n",
       "      <td>Success</td>\n",
       "      <td>F9 B5 B1058.4</td>\n",
       "      <td>2972</td>\n",
       "    </tr>\n",
       "  </tbody>\n",
       "</table>\n",
       "<p>101 rows × 3 columns</p>\n",
       "</div>"
      ],
      "text/plain": [
       "        Landing _Outcome Booster_Version  PAYLOAD_MASS__KG_\n",
       "0    Failure (parachute)  F9 v1.0  B0003                  0\n",
       "1    Failure (parachute)  F9 v1.0  B0004                  0\n",
       "2             No attempt  F9 v1.0  B0005                525\n",
       "3             No attempt  F9 v1.0  B0006                500\n",
       "4             No attempt  F9 v1.0  B0007                677\n",
       "..                   ...             ...                ...\n",
       "96               Success    F9 B5B1062.1               4311\n",
       "97               Success   F9 B5B1061.1               12500\n",
       "98               Success    F9 B5B1063.1               1192\n",
       "99               Success  F9 B5 B1049.7               15600\n",
       "100              Success  F9 B5 B1058.4                2972\n",
       "\n",
       "[101 rows x 3 columns]"
      ]
     },
     "execution_count": 25,
     "metadata": {},
     "output_type": "execute_result"
    }
   ],
   "source": [
    "df_booster = df[['Landing _Outcome','Booster_Version', 'PAYLOAD_MASS__KG_']]\n",
    "df_booster"
   ]
  },
  {
   "cell_type": "code",
   "execution_count": 26,
   "id": "1a96fea8-2765-4347-919b-b6eaf74093de",
   "metadata": {},
   "outputs": [],
   "source": [
    "df_boost= df.loc[(df['PAYLOAD_MASS__KG_'] > 4000) & (df['PAYLOAD_MASS__KG_'] < 6000) & (df['Landing _Outcome']=='Success (drone ship)')]"
   ]
  },
  {
   "cell_type": "code",
   "execution_count": 27,
   "id": "bafb42ff-50c6-406a-afd7-174b484ee20c",
   "metadata": {},
   "outputs": [
    {
     "data": {
      "text/plain": [
       "{'F9 FT  B1021.2', 'F9 FT  B1031.2', 'F9 FT B1022', 'F9 FT B1026'}"
      ]
     },
     "execution_count": 27,
     "metadata": {},
     "output_type": "execute_result"
    }
   ],
   "source": [
    "set(df_boost['Booster_Version'])"
   ]
  },
  {
   "cell_type": "markdown",
   "id": "9c3e0935-4980-4ed2-93fc-3dc0e34d28ec",
   "metadata": {},
   "source": [
    "### Task 7\n",
    "\n",
    "##### List the total number of successful and failure mission outcomes"
   ]
  },
  {
   "cell_type": "code",
   "execution_count": 28,
   "id": "5c464355-4089-4339-9f87-14793960cb14",
   "metadata": {},
   "outputs": [
    {
     "data": {
      "text/plain": [
       "{'Failure (in flight)',\n",
       " 'Success',\n",
       " 'Success ',\n",
       " 'Success (payload status unclear)'}"
      ]
     },
     "execution_count": 28,
     "metadata": {},
     "output_type": "execute_result"
    }
   ],
   "source": [
    "set(df['Mission_Outcome'])"
   ]
  },
  {
   "cell_type": "code",
   "execution_count": 29,
   "id": "331b25a1-2c60-4ff0-9aac-73c49c5fd75a",
   "metadata": {},
   "outputs": [
    {
     "data": {
      "text/plain": [
       "Success                             98\n",
       "Success (payload status unclear)     1\n",
       "Failure (in flight)                  1\n",
       "Success                              1\n",
       "Name: Mission_Outcome, dtype: int64"
      ]
     },
     "execution_count": 29,
     "metadata": {},
     "output_type": "execute_result"
    }
   ],
   "source": [
    "df['Mission_Outcome'].value_counts()"
   ]
  },
  {
   "cell_type": "markdown",
   "id": "037a6003-b774-47a2-bbcf-2879990056a6",
   "metadata": {},
   "source": [
    "### Task 8\n",
    "\n",
    "##### List the   names of the booster_versions which have carried the maximum payload mass. Use a subquery\n"
   ]
  },
  {
   "cell_type": "code",
   "execution_count": 30,
   "id": "97ccaeab-6a23-4aed-9a5c-78df0e15c6f7",
   "metadata": {},
   "outputs": [],
   "source": [
    "max_payloadmass= df['PAYLOAD_MASS__KG_'].max()"
   ]
  },
  {
   "cell_type": "code",
   "execution_count": 31,
   "id": "a2c352fd-03d8-468f-a5fb-ff0ec7e17275",
   "metadata": {},
   "outputs": [
    {
     "data": {
      "text/plain": [
       "15600"
      ]
     },
     "execution_count": 31,
     "metadata": {},
     "output_type": "execute_result"
    }
   ],
   "source": [
    "max_payloadmass"
   ]
  },
  {
   "cell_type": "code",
   "execution_count": 32,
   "id": "84cb447d-9444-4f42-a7ff-f2b4eea43a5c",
   "metadata": {},
   "outputs": [],
   "source": [
    "df_boost_maxmass= df[df['PAYLOAD_MASS__KG_']==max_payloadmass]"
   ]
  },
  {
   "cell_type": "code",
   "execution_count": 33,
   "id": "caaf8d63-10f1-44bc-a371-11896ad85447",
   "metadata": {},
   "outputs": [
    {
     "name": "stdout",
     "output_type": "stream",
     "text": [
      "{'F9 B5 B1056.4', 'F9 B5 B1049.4', 'F9 B5 B1049.7 ', 'F9 B5 B1051.6', 'F9 B5 B1048.5', 'F9 B5 B1051.4', 'F9 B5 B1060.2 ', 'F9 B5 B1060.3', 'F9 B5 B1048.4', 'F9 B5 B1051.3', 'F9 B5 B1058.3 ', 'F9 B5 B1049.5'}\n"
     ]
    }
   ],
   "source": [
    "print(set(df_boost_maxmass['Booster_Version']))"
   ]
  },
  {
   "cell_type": "markdown",
   "id": "c2cc93a9-067b-4ba9-a199-654e68e90469",
   "metadata": {},
   "source": [
    "### Task 9\n",
    "\n",
    "##### List the records which will display the month names, failure landing_outcomes in drone ship ,booster versions, launch_site for the months in year 2015.\n",
    "\n",
    "**Note: SQLLite does not support monthnames. So you need to use  substr(Date, 4, 2) as month to get the months and substr(Date,7,4)='2015' for year.**\n"
   ]
  },
  {
   "cell_type": "code",
   "execution_count": 34,
   "id": "26da3f1d-7803-4d86-a33c-650c31a96207",
   "metadata": {},
   "outputs": [],
   "source": [
    "import datetime"
   ]
  },
  {
   "cell_type": "code",
   "execution_count": 37,
   "id": "471d1aa9-6607-48da-8374-2daea48c2415",
   "metadata": {},
   "outputs": [],
   "source": [
    "df_9=df[['Date', 'Landing _Outcome','Booster_Version','Launch_Site']]"
   ]
  },
  {
   "cell_type": "code",
   "execution_count": 38,
   "id": "16508a0b-02fc-41ea-b499-c7e6482a9f9e",
   "metadata": {},
   "outputs": [
    {
     "data": {
      "text/html": [
       "<div>\n",
       "<style scoped>\n",
       "    .dataframe tbody tr th:only-of-type {\n",
       "        vertical-align: middle;\n",
       "    }\n",
       "\n",
       "    .dataframe tbody tr th {\n",
       "        vertical-align: top;\n",
       "    }\n",
       "\n",
       "    .dataframe thead th {\n",
       "        text-align: right;\n",
       "    }\n",
       "</style>\n",
       "<table border=\"1\" class=\"dataframe\">\n",
       "  <thead>\n",
       "    <tr style=\"text-align: right;\">\n",
       "      <th></th>\n",
       "      <th>Date</th>\n",
       "      <th>Landing _Outcome</th>\n",
       "      <th>Booster_Version</th>\n",
       "      <th>Launch_Site</th>\n",
       "    </tr>\n",
       "  </thead>\n",
       "  <tbody>\n",
       "    <tr>\n",
       "      <th>0</th>\n",
       "      <td>04-06-2010</td>\n",
       "      <td>Failure (parachute)</td>\n",
       "      <td>F9 v1.0  B0003</td>\n",
       "      <td>CCAFS LC-40</td>\n",
       "    </tr>\n",
       "    <tr>\n",
       "      <th>1</th>\n",
       "      <td>08-12-2010</td>\n",
       "      <td>Failure (parachute)</td>\n",
       "      <td>F9 v1.0  B0004</td>\n",
       "      <td>CCAFS LC-40</td>\n",
       "    </tr>\n",
       "    <tr>\n",
       "      <th>2</th>\n",
       "      <td>22-05-2012</td>\n",
       "      <td>No attempt</td>\n",
       "      <td>F9 v1.0  B0005</td>\n",
       "      <td>CCAFS LC-40</td>\n",
       "    </tr>\n",
       "    <tr>\n",
       "      <th>3</th>\n",
       "      <td>08-10-2012</td>\n",
       "      <td>No attempt</td>\n",
       "      <td>F9 v1.0  B0006</td>\n",
       "      <td>CCAFS LC-40</td>\n",
       "    </tr>\n",
       "    <tr>\n",
       "      <th>4</th>\n",
       "      <td>01-03-2013</td>\n",
       "      <td>No attempt</td>\n",
       "      <td>F9 v1.0  B0007</td>\n",
       "      <td>CCAFS LC-40</td>\n",
       "    </tr>\n",
       "    <tr>\n",
       "      <th>...</th>\n",
       "      <td>...</td>\n",
       "      <td>...</td>\n",
       "      <td>...</td>\n",
       "      <td>...</td>\n",
       "    </tr>\n",
       "    <tr>\n",
       "      <th>96</th>\n",
       "      <td>05-11-2020</td>\n",
       "      <td>Success</td>\n",
       "      <td>F9 B5B1062.1</td>\n",
       "      <td>CCAFS SLC-40</td>\n",
       "    </tr>\n",
       "    <tr>\n",
       "      <th>97</th>\n",
       "      <td>16-11-2020</td>\n",
       "      <td>Success</td>\n",
       "      <td>F9 B5B1061.1</td>\n",
       "      <td>KSC LC-39A</td>\n",
       "    </tr>\n",
       "    <tr>\n",
       "      <th>98</th>\n",
       "      <td>21-11-2020</td>\n",
       "      <td>Success</td>\n",
       "      <td>F9 B5B1063.1</td>\n",
       "      <td>VAFB SLC-4E</td>\n",
       "    </tr>\n",
       "    <tr>\n",
       "      <th>99</th>\n",
       "      <td>25-11-2020</td>\n",
       "      <td>Success</td>\n",
       "      <td>F9 B5 B1049.7</td>\n",
       "      <td>CCAFS SLC-40</td>\n",
       "    </tr>\n",
       "    <tr>\n",
       "      <th>100</th>\n",
       "      <td>06-12-2020</td>\n",
       "      <td>Success</td>\n",
       "      <td>F9 B5 B1058.4</td>\n",
       "      <td>KSC LC-39A</td>\n",
       "    </tr>\n",
       "  </tbody>\n",
       "</table>\n",
       "<p>101 rows × 4 columns</p>\n",
       "</div>"
      ],
      "text/plain": [
       "           Date     Landing _Outcome Booster_Version   Launch_Site\n",
       "0    04-06-2010  Failure (parachute)  F9 v1.0  B0003   CCAFS LC-40\n",
       "1    08-12-2010  Failure (parachute)  F9 v1.0  B0004   CCAFS LC-40\n",
       "2    22-05-2012           No attempt  F9 v1.0  B0005   CCAFS LC-40\n",
       "3    08-10-2012           No attempt  F9 v1.0  B0006   CCAFS LC-40\n",
       "4    01-03-2013           No attempt  F9 v1.0  B0007   CCAFS LC-40\n",
       "..          ...                  ...             ...           ...\n",
       "96   05-11-2020              Success    F9 B5B1062.1  CCAFS SLC-40\n",
       "97   16-11-2020              Success   F9 B5B1061.1     KSC LC-39A\n",
       "98   21-11-2020              Success    F9 B5B1063.1   VAFB SLC-4E\n",
       "99   25-11-2020              Success  F9 B5 B1049.7   CCAFS SLC-40\n",
       "100  06-12-2020              Success  F9 B5 B1058.4     KSC LC-39A\n",
       "\n",
       "[101 rows x 4 columns]"
      ]
     },
     "execution_count": 38,
     "metadata": {},
     "output_type": "execute_result"
    }
   ],
   "source": [
    "df_9"
   ]
  },
  {
   "cell_type": "code",
   "execution_count": null,
   "id": "e6dfe8f7-a1ce-4f52-bc9e-f7e28444154a",
   "metadata": {},
   "outputs": [],
   "source": [
    "df_9['Date'] = pd.to_datetime(df_9['Date'], format='%d-%m-%Y')"
   ]
  },
  {
   "cell_type": "code",
   "execution_count": 42,
   "id": "00d76321-708c-4c29-9686-fef7d1c1a4a4",
   "metadata": {},
   "outputs": [],
   "source": [
    "df_2015=df_9[df_9['Date'].dt.strftime('%Y')=='2015']"
   ]
  },
  {
   "cell_type": "code",
   "execution_count": 43,
   "id": "5946c723-2719-4e6a-8d38-2d9c428377a0",
   "metadata": {},
   "outputs": [],
   "source": [
    "df_month_name= df_2015[df_2015['Landing _Outcome']=='Failure (drone ship)']"
   ]
  },
  {
   "cell_type": "code",
   "execution_count": 44,
   "id": "6b3675dd-5552-4cf5-8658-6ed5de789178",
   "metadata": {},
   "outputs": [
    {
     "data": {
      "text/html": [
       "<div>\n",
       "<style scoped>\n",
       "    .dataframe tbody tr th:only-of-type {\n",
       "        vertical-align: middle;\n",
       "    }\n",
       "\n",
       "    .dataframe tbody tr th {\n",
       "        vertical-align: top;\n",
       "    }\n",
       "\n",
       "    .dataframe thead th {\n",
       "        text-align: right;\n",
       "    }\n",
       "</style>\n",
       "<table border=\"1\" class=\"dataframe\">\n",
       "  <thead>\n",
       "    <tr style=\"text-align: right;\">\n",
       "      <th></th>\n",
       "      <th>Date</th>\n",
       "      <th>Landing _Outcome</th>\n",
       "      <th>Booster_Version</th>\n",
       "      <th>Launch_Site</th>\n",
       "    </tr>\n",
       "  </thead>\n",
       "  <tbody>\n",
       "    <tr>\n",
       "      <th>13</th>\n",
       "      <td>2015-01-10</td>\n",
       "      <td>Failure (drone ship)</td>\n",
       "      <td>F9 v1.1 B1012</td>\n",
       "      <td>CCAFS LC-40</td>\n",
       "    </tr>\n",
       "    <tr>\n",
       "      <th>16</th>\n",
       "      <td>2015-04-14</td>\n",
       "      <td>Failure (drone ship)</td>\n",
       "      <td>F9 v1.1 B1015</td>\n",
       "      <td>CCAFS LC-40</td>\n",
       "    </tr>\n",
       "  </tbody>\n",
       "</table>\n",
       "</div>"
      ],
      "text/plain": [
       "         Date      Landing _Outcome Booster_Version  Launch_Site\n",
       "13 2015-01-10  Failure (drone ship)   F9 v1.1 B1012  CCAFS LC-40\n",
       "16 2015-04-14  Failure (drone ship)   F9 v1.1 B1015  CCAFS LC-40"
      ]
     },
     "execution_count": 44,
     "metadata": {},
     "output_type": "execute_result"
    }
   ],
   "source": [
    "df_month_name"
   ]
  },
  {
   "cell_type": "markdown",
   "id": "dd738cd7-2225-417f-bd1f-ad305ff076ad",
   "metadata": {},
   "source": [
    "### Task 10\n",
    "\n",
    "##### Rank the  count of  successful landing_outcomes between the date 04-06-2010 and 20-03-2017 in descending order."
   ]
  },
  {
   "cell_type": "code",
   "execution_count": 45,
   "id": "3fcec2fd-7de1-4b7b-8df5-653c669ab961",
   "metadata": {},
   "outputs": [],
   "source": [
    "df_success_outcome= df.loc[(df['Landing _Outcome']=='Success') & (df['Date']>'04-06-2010') & (df['Date']<'20-03-2017')]"
   ]
  },
  {
   "cell_type": "code",
   "execution_count": 47,
   "id": "ef2164e5-9440-42bf-99d3-93d3dd6f8fd2",
   "metadata": {},
   "outputs": [
    {
     "data": {
      "text/plain": [
       "20"
      ]
     },
     "execution_count": 47,
     "metadata": {},
     "output_type": "execute_result"
    }
   ],
   "source": [
    "df_success_outcome['Landing _Outcome'].count()"
   ]
  },
  {
   "cell_type": "code",
   "execution_count": 50,
   "id": "96169ee6-566f-482d-98ec-9d8c166d3404",
   "metadata": {},
   "outputs": [
    {
     "data": {
      "text/plain": [
       "20"
      ]
     },
     "execution_count": 50,
     "metadata": {},
     "output_type": "execute_result"
    }
   ],
   "source": [
    "len(df_success_outcome['Landing _Outcome'])"
   ]
  },
  {
   "cell_type": "markdown",
   "id": "680123b0-949b-4172-8232-2ff7bc777176",
   "metadata": {},
   "source": [
    "### Reference Links\n",
    "\n",
    "*   <a href =\"https://cf-courses-data.s3.us.cloud-object-storage.appdomain.cloud/IBMDeveloperSkillsNetwork-DB0201EN-SkillsNetwork/labs/Labs_Coursera_V5/labs/Lab%20-%20String%20Patterns%20-%20Sorting%20-%20Grouping/instructional-labs.md.html?utm_medium=Exinfluencer&utm_source=Exinfluencer&utm_content=000026UJ&utm_term=10006555&utm_id=NA-SkillsNetwork-Channel-SkillsNetworkCoursesIBMDS0321ENSkillsNetwork26802033-2022-01-01&origin=www.coursera.org\">Hands-on Lab : String Patterns, Sorting and Grouping</a>\n",
    "\n",
    "*   <a  href=\"https://cf-courses-data.s3.us.cloud-object-storage.appdomain.cloud/IBMDeveloperSkillsNetwork-DB0201EN-SkillsNetwork/labs/Labs_Coursera_V5/labs/Lab%20-%20Built-in%20functions%20/Hands-on_Lab__Built-in_Functions.md.html?utm_medium=Exinfluencer&utm_source=Exinfluencer&utm_content=000026UJ&utm_term=10006555&utm_id=NA-SkillsNetwork-Channel-SkillsNetworkCoursesIBMDS0321ENSkillsNetwork26802033-2022-01-01&origin=www.coursera.org\">Hands-on Lab: Built-in functions</a>\n",
    "\n",
    "*   <a  href=\"https://cf-courses-data.s3.us.cloud-object-storage.appdomain.cloud/IBMDeveloperSkillsNetwork-DB0201EN-SkillsNetwork/labs/Labs_Coursera_V5/labs/Lab%20-%20Sub-queries%20and%20Nested%20SELECTs%20/instructional-labs.md.html?utm_medium=Exinfluencer&utm_source=Exinfluencer&utm_content=000026UJ&utm_term=10006555&utm_id=NA-SkillsNetwork-Channel-SkillsNetworkCoursesIBMDS0321ENSkillsNetwork26802033-2022-01-01&origin=www.coursera.org\">Hands-on Lab : Sub-queries and Nested SELECT Statements</a>\n",
    "\n",
    "*   <a href=\"https://cf-courses-data.s3.us.cloud-object-storage.appdomain.cloud/IBMDeveloperSkillsNetwork-DB0201EN-SkillsNetwork/labs/Module%205/DB0201EN-Week3-1-3-SQLmagic.ipynb?utm_medium=Exinfluencer&utm_source=Exinfluencer&utm_content=000026UJ&utm_term=10006555&utm_id=NA-SkillsNetwork-Channel-SkillsNetworkCoursesIBMDS0321ENSkillsNetwork26802033-2022-01-01\">Hands-on Tutorial: Accessing Databases with SQL magic</a>\n",
    "\n",
    "*   <a href= \"https://cf-courses-data.s3.us.cloud-object-storage.appdomain.cloud/IBMDeveloperSkillsNetwork-DB0201EN-SkillsNetwork/labs/Module%205/DB0201EN-Week3-1-4-Analyzing.ipynb?utm_medium=Exinfluencer&utm_source=Exinfluencer&utm_content=000026UJ&utm_term=10006555&utm_id=NA-SkillsNetwork-Channel-SkillsNetworkCoursesIBMDS0321ENSkillsNetwork26802033-2022-01-01\">Hands-on Lab: Analyzing a real World Data Set</a>"
   ]
  },
  {
   "cell_type": "code",
   "execution_count": null,
   "id": "8d51b4f7-51f1-4e28-8615-821b03dbfc2a",
   "metadata": {},
   "outputs": [],
   "source": []
  }
 ],
 "metadata": {
  "kernelspec": {
   "display_name": "Python 3 (ipykernel)",
   "language": "python",
   "name": "python3"
  },
  "language_info": {
   "codemirror_mode": {
    "name": "ipython",
    "version": 3
   },
   "file_extension": ".py",
   "mimetype": "text/x-python",
   "name": "python",
   "nbconvert_exporter": "python",
   "pygments_lexer": "ipython3",
   "version": "3.9.13"
  }
 },
 "nbformat": 4,
 "nbformat_minor": 5
}
